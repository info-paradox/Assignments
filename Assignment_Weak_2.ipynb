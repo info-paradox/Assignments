{
  "nbformat": 4,
  "nbformat_minor": 0,
  "metadata": {
    "colab": {
      "name": "Assignment Weak 2.ipynb",
      "provenance": [],
      "collapsed_sections": [],
      "toc_visible": true,
      "authorship_tag": "ABX9TyPjGfeIxAgcoRn1V7ULfAWr",
      "include_colab_link": true
    },
    "kernelspec": {
      "name": "python3",
      "display_name": "Python 3"
    },
    "language_info": {
      "name": "python"
    }
  },
  "cells": [
    {
      "cell_type": "markdown",
      "metadata": {
        "id": "view-in-github",
        "colab_type": "text"
      },
      "source": [
        "<a href=\"https://colab.research.google.com/github/info-paradox/Assignments/blob/main/Assignment_Weak_2.ipynb\" target=\"_parent\"><img src=\"https://colab.research.google.com/assets/colab-badge.svg\" alt=\"Open In Colab\"/></a>"
      ]
    },
    {
      "cell_type": "markdown",
      "metadata": {
        "id": "fZ5OganpfyHR"
      },
      "source": [
        "#Weak 2 Assignment"
      ]
    },
    {
      "cell_type": "code",
      "metadata": {
        "id": "uGfB9lynVPH3"
      },
      "source": [
        "import numpy as np\n",
        "import time\n",
        "import math\n",
        "import pandas as pd"
      ],
      "execution_count": 91,
      "outputs": []
    },
    {
      "cell_type": "markdown",
      "metadata": {
        "id": "P2GD1sE0f7kF"
      },
      "source": [
        "##1.Reading from Dataset"
      ]
    },
    {
      "cell_type": "code",
      "metadata": {
        "id": "XW5TfTTgVkSi"
      },
      "source": [
        "#readomg data from  the csv file\n",
        "df=pd.read_csv('/content/winemag-data-assignment-2.csv')\n"
      ],
      "execution_count": 97,
      "outputs": []
    },
    {
      "cell_type": "markdown",
      "metadata": {
        "id": "0xcOGvQdfiHx"
      },
      "source": [
        "##2.Dataframe information and describtion"
      ]
    },
    {
      "cell_type": "code",
      "metadata": {
        "colab": {
          "base_uri": "https://localhost:8080/",
          "height": 300
        },
        "id": "1SKmgAqhYXz_",
        "outputId": "58875386-ffb4-403c-8919-fd5d4279258a"
      },
      "source": [
        "df.describe()"
      ],
      "execution_count": 93,
      "outputs": [
        {
          "output_type": "execute_result",
          "data": {
            "text/html": [
              "<div>\n",
              "<style scoped>\n",
              "    .dataframe tbody tr th:only-of-type {\n",
              "        vertical-align: middle;\n",
              "    }\n",
              "\n",
              "    .dataframe tbody tr th {\n",
              "        vertical-align: top;\n",
              "    }\n",
              "\n",
              "    .dataframe thead th {\n",
              "        text-align: right;\n",
              "    }\n",
              "</style>\n",
              "<table border=\"1\" class=\"dataframe\">\n",
              "  <thead>\n",
              "    <tr style=\"text-align: right;\">\n",
              "      <th></th>\n",
              "      <th>Unnamed: 0</th>\n",
              "      <th>points</th>\n",
              "      <th>price</th>\n",
              "    </tr>\n",
              "  </thead>\n",
              "  <tbody>\n",
              "    <tr>\n",
              "      <th>count</th>\n",
              "      <td>5251.000000</td>\n",
              "      <td>5224.000000</td>\n",
              "      <td>4895.000000</td>\n",
              "    </tr>\n",
              "    <tr>\n",
              "      <th>mean</th>\n",
              "      <td>2625.000000</td>\n",
              "      <td>88.239472</td>\n",
              "      <td>35.039837</td>\n",
              "    </tr>\n",
              "    <tr>\n",
              "      <th>std</th>\n",
              "      <td>1515.977462</td>\n",
              "      <td>2.933020</td>\n",
              "      <td>51.515098</td>\n",
              "    </tr>\n",
              "    <tr>\n",
              "      <th>min</th>\n",
              "      <td>0.000000</td>\n",
              "      <td>80.000000</td>\n",
              "      <td>4.000000</td>\n",
              "    </tr>\n",
              "    <tr>\n",
              "      <th>25%</th>\n",
              "      <td>1312.500000</td>\n",
              "      <td>86.000000</td>\n",
              "      <td>16.500000</td>\n",
              "    </tr>\n",
              "    <tr>\n",
              "      <th>50%</th>\n",
              "      <td>2625.000000</td>\n",
              "      <td>88.000000</td>\n",
              "      <td>25.000000</td>\n",
              "    </tr>\n",
              "    <tr>\n",
              "      <th>75%</th>\n",
              "      <td>3937.500000</td>\n",
              "      <td>90.000000</td>\n",
              "      <td>40.000000</td>\n",
              "    </tr>\n",
              "    <tr>\n",
              "      <th>max</th>\n",
              "      <td>5250.000000</td>\n",
              "      <td>100.000000</td>\n",
              "      <td>1900.000000</td>\n",
              "    </tr>\n",
              "  </tbody>\n",
              "</table>\n",
              "</div>"
            ],
            "text/plain": [
              "        Unnamed: 0       points        price\n",
              "count  5251.000000  5224.000000  4895.000000\n",
              "mean   2625.000000    88.239472    35.039837\n",
              "std    1515.977462     2.933020    51.515098\n",
              "min       0.000000    80.000000     4.000000\n",
              "25%    1312.500000    86.000000    16.500000\n",
              "50%    2625.000000    88.000000    25.000000\n",
              "75%    3937.500000    90.000000    40.000000\n",
              "max    5250.000000   100.000000  1900.000000"
            ]
          },
          "metadata": {},
          "execution_count": 93
        }
      ]
    },
    {
      "cell_type": "code",
      "metadata": {
        "colab": {
          "base_uri": "https://localhost:8080/"
        },
        "id": "708jfn8mYfMO",
        "outputId": "e53d49aa-64d1-45d5-e426-b417e03fcd88"
      },
      "source": [
        "df.info()"
      ],
      "execution_count": 94,
      "outputs": [
        {
          "output_type": "stream",
          "name": "stdout",
          "text": [
            "<class 'pandas.core.frame.DataFrame'>\n",
            "RangeIndex: 5251 entries, 0 to 5250\n",
            "Data columns (total 14 columns):\n",
            " #   Column                 Non-Null Count  Dtype  \n",
            "---  ------                 --------------  -----  \n",
            " 0   Unnamed: 0             5251 non-null   int64  \n",
            " 1   country                5248 non-null   object \n",
            " 2   description            5251 non-null   object \n",
            " 3   designation            3698 non-null   object \n",
            " 4   points                 5224 non-null   float64\n",
            " 5   price                  4895 non-null   float64\n",
            " 6   province               5248 non-null   object \n",
            " 7   region_1               4419 non-null   object \n",
            " 8   region_2               2078 non-null   object \n",
            " 9   taster_name            4172 non-null   object \n",
            " 10  taster_twitter_handle  3991 non-null   object \n",
            " 11  title                  5251 non-null   object \n",
            " 12  variety                5250 non-null   object \n",
            " 13  winery                 5250 non-null   object \n",
            "dtypes: float64(2), int64(1), object(11)\n",
            "memory usage: 574.5+ KB\n"
          ]
        }
      ]
    },
    {
      "cell_type": "markdown",
      "metadata": {
        "id": "Yoo_e5aotW2D"
      },
      "source": [
        "##3.Drop the unwanted columns"
      ]
    },
    {
      "cell_type": "code",
      "metadata": {
        "id": "DSI7cciFYk_u"
      },
      "source": [
        "columns_to_del=['description','region_2','taster_name','taster_twitter_handle','title','province']\n"
      ],
      "execution_count": 95,
      "outputs": []
    },
    {
      "cell_type": "code",
      "metadata": {
        "id": "1T4KiIx6ZChO",
        "colab": {
          "base_uri": "https://localhost:8080/"
        },
        "outputId": "e5719cd0-6378-4227-b17d-e2bf641474ca"
      },
      "source": [
        "print(df[:0])\n",
        "df.drop(columns=columns_to_del,inplace=True)\n",
        "print(df[:0])"
      ],
      "execution_count": 98,
      "outputs": [
        {
          "output_type": "stream",
          "name": "stdout",
          "text": [
            "Empty DataFrame\n",
            "Columns: [Unnamed: 0, country, description, designation, points, price, province, region_1, region_2, taster_name, taster_twitter_handle, title, variety, winery]\n",
            "Index: []\n",
            "Empty DataFrame\n",
            "Columns: [Unnamed: 0, country, designation, points, price, region_1, variety, winery]\n",
            "Index: []\n"
          ]
        }
      ]
    },
    {
      "cell_type": "markdown",
      "metadata": {
        "id": "-CnPOWBStnd0"
      },
      "source": [
        "##4.Convert text values into numeric ones"
      ]
    },
    {
      "cell_type": "code",
      "metadata": {
        "id": "m0uJWWm6i-iu"
      },
      "source": [
        "def enum(w):\n",
        "  w=set(w)\n",
        "  print(w)\n",
        "  w_to_n={}\n",
        "  n_to_w={}\n",
        "  for i,w in enumerate(w):\n",
        "    w_to_n[w]=i\n",
        "    n_to_w[i]=w\n",
        "  return w_to_n,n_to_w\n",
        "\n",
        "def word_to_number(array):\n",
        "  arr_list=[]\n",
        "  w_to_n,n_to_w=enum(array)\n",
        "  for item in array:\n",
        "    arr_list.append(w_to_n[item])\n",
        "  return (arr_list)\n"
      ],
      "execution_count": 99,
      "outputs": []
    },
    {
      "cell_type": "code",
      "metadata": {
        "id": "eJBYU3AbD_-O",
        "colab": {
          "base_uri": "https://localhost:8080/",
          "height": 49
        },
        "outputId": "4748f4e5-6ab7-4996-d55c-b862d881ddf4"
      },
      "source": [
        "new_df=df.copy()\n",
        "new_df[:0]"
      ],
      "execution_count": 101,
      "outputs": [
        {
          "output_type": "execute_result",
          "data": {
            "text/html": [
              "<div>\n",
              "<style scoped>\n",
              "    .dataframe tbody tr th:only-of-type {\n",
              "        vertical-align: middle;\n",
              "    }\n",
              "\n",
              "    .dataframe tbody tr th {\n",
              "        vertical-align: top;\n",
              "    }\n",
              "\n",
              "    .dataframe thead th {\n",
              "        text-align: right;\n",
              "    }\n",
              "</style>\n",
              "<table border=\"1\" class=\"dataframe\">\n",
              "  <thead>\n",
              "    <tr style=\"text-align: right;\">\n",
              "      <th></th>\n",
              "      <th>Unnamed: 0</th>\n",
              "      <th>country</th>\n",
              "      <th>designation</th>\n",
              "      <th>points</th>\n",
              "      <th>price</th>\n",
              "      <th>region_1</th>\n",
              "      <th>variety</th>\n",
              "      <th>winery</th>\n",
              "    </tr>\n",
              "  </thead>\n",
              "  <tbody>\n",
              "  </tbody>\n",
              "</table>\n",
              "</div>"
            ],
            "text/plain": [
              "Empty DataFrame\n",
              "Columns: [Unnamed: 0, country, designation, points, price, region_1, variety, winery]\n",
              "Index: []"
            ]
          },
          "metadata": {},
          "execution_count": 101
        }
      ]
    },
    {
      "cell_type": "code",
      "metadata": {
        "colab": {
          "base_uri": "https://localhost:8080/"
        },
        "id": "mB0EYem5EZJ8",
        "outputId": "fdd7438c-ab54-4a31-eaa8-309f4729291e"
      },
      "source": [
        "#get the numeric representation of the following cols\n",
        "list_country=word_to_number(df['country'])\n",
        "list_region=word_to_number(df['region_1'])\n",
        "list_variety=word_to_number(df['variety'])\n",
        "list_winery=word_to_number(df['winery'])"
      ],
      "execution_count": 102,
      "outputs": [
        {
          "output_type": "stream",
          "name": "stdout",
          "text": [
            "{nan, 'Portugal', 'Israel', 'Czech Republic', 'Spain', 'Hungary', 'Turkey', 'Lebanon', 'Romania', 'France', 'Luxembourg', 'Austria', 'Italy', 'US', 'Germany', 'Croatia', 'New Zealand', 'England', 'Argentina', 'South Africa', 'Chile', 'Australia', 'Uruguay', 'Mexico', 'Slovenia', 'Serbia', 'Greece', 'Canada', 'Georgia'}\n",
            "{nan, 'Knights Valley', 'Lazio', 'Bardolino Classico', 'Juliénas', 'Monferrato', 'Clarksburg', 'Calistoga', 'Washington', 'Columbia Gorge (WA)', 'Ancient Lakes', 'Patagonia', 'Agrelo', 'Valpolicella Superiore Ripasso', 'Maremma', 'Viré-Clessé', 'Faro', 'Southern Oregon', 'Valtellina Superiore', 'Forlì', 'Uclés', 'Coteaux Bourguignons', 'Saint-Joseph', 'Pemberton', 'Augusta', 'Adelaide Plains', 'Calaveras County', 'Valdeorras', 'Langhorne Creek', 'Temecula', 'Napa County', 'Montagne-Saint-Émilion', 'Rosé de Loire', 'Cole Ranch', 'Valdobbiadene Superiore di Cartizze', 'Chiles Valley', 'North Coast', 'Monica di Sardegna', 'Coombsville', 'New Mexico', 'Cornas', 'Cayuga Lake', 'Corbières', 'Shenandoah Valley (CA)', 'Vin de France', 'Rueda', 'Walla Walla Valley (WA)', 'Catalunya', 'Ribbon Ridge', 'San Marino', 'Falerno del Massico', 'Red Hills Lake County', 'Champagne', 'North Fork of Long Island', 'Barossa Valley', 'Meursault', 'Mercurey', 'Mornington Peninsula', 'Cienega Valley', 'Arroyo Seco', 'Pennsylvania', \"Barbera d'Asti Superiore Nizza\", 'Heathcote', 'Dolcetto di Dogliani', 'Ribera del Duero', 'Cerasuolo di Vittoria Classico', 'Vittoria', 'Snipes Mountain', 'Morgon', 'Long Island', 'Trento', 'Margaret River', 'Oregon', 'Vosne-Romanée', 'Morellino di Scansano', 'Saint-Julien', 'Old Mission Peninsula', 'Niagara-On-The-Lake', 'Chinon', 'Calatayud', 'Bolgheri Superiore', 'Chambolle-Musigny', 'Ladoix', 'Fiddletown', 'Vino Nobile di Montepulciano', 'Marche', 'Saumur', 'El Dorado', 'Livermore Valley', 'Soave Classico', 'Ghemme', 'Russian River Valley', 'Bardolino Chiaretto', 'Friuli Colli Orientali', 'Conegliano Valdobbiadene Prosecco Superiore', 'Pauillac', 'Lake Erie', 'McMinnville', 'Horse Heaven Hills', 'Vin de Pays des Cévennes', 'Jerez', 'Rogue Valley', 'Basilicata', 'Sierra Foothills', 'Recioto della Valpolicella Classico', 'Montilla-Moriles', 'Idaho', \"Barbera d'Asti Superiore\", 'Criots-Bâtard-Montrachet', 'Alicante', 'Cucamonga Valley', 'Médoc', 'Adelaida District', 'Blaye Côtes de Bordeaux', 'Howell Mountain', 'Bolgheri Sassicaia', 'Padthaway', 'Mâcon-Péronne', 'Carneros', 'Trentino', 'Rivesaltes', 'Eloro', 'Salice Salentino', 'Colli Aprutini', 'Dry Creek Valley', 'Venezia Giulia', 'Spain', 'Paicines', 'Montefalco Sagrantino', 'Côte Chalonnaise', 'Columbia Valley (WA)', 'Greco di Tufo', 'Sonoma Coast', 'Saint-Aubin', 'Yakima Valley', 'Chassagne-Montrachet', 'Lussac Saint-Émilion', 'San Juan', 'Taurasi', 'Irrouléguy', 'Ribeiro', 'Coteaux du Languedoc', 'New York', 'Salento', 'Cheverny', 'Campo de Borja', 'Mâcon-Fuissé', 'Australia', 'Redwood Valley', 'Yolo County', 'Dundee Hills', 'Anjou', 'Neuquén', 'Lake Chelan', 'Sagrantino di Montefalco', 'Beaujolais Rosé', \"Valle d'Aosta\", 'Terre Siciliane', 'Carmel Valley', 'Los Carneros', 'Fronsac', 'Goulburn Valley', 'Great Southern', 'Cerasuolo di Vittoria', 'Umpqua Valley', 'Rattlesnake Hills', 'Condrieu', 'Almansa', 'Santa Barbara', 'Monticello', 'Auxey-Duresses', 'Conero', \"Nebbiolo d'Alba\", 'Toscana', 'Côtes du Lot', 'Vigneti delle Dolomiti', 'Málaga', 'Mâcon-Villages', 'Monterey County', 'Outer Coastal Plain', 'Victoria', 'Western Australia', 'Charmes-Chambertin', 'Ballard Canyon', 'Diamond Mountain District', 'Sebino', \"Vin de Pays d'Oc\", 'Finger Lakes', 'Bierzo', 'Montravel', 'Corton Les Renardes', 'Lake County', 'Côte de Nuits-Villages', \"Coteaux d'Aix-en-Provence\", 'Barossa', 'Piemonte', 'Châteauneuf-du-Pape', 'Campania', 'Mt. Harlan', 'Amarone della Valpolicella Classico', 'Pernand-Vergelesses', 'Texas', 'Vin Santo del Chianti Classico', 'Paso Robles', 'Alsace', 'Vin de Pays des Côtes de Gascogne', 'Mendocino County', 'Chehalem Mountains', 'Vin Santo del Chianti', 'Bourgogne Hautes Côtes de Beaune', 'Sangiovese di Romagna Superiore', 'Santa Lucia Highlands', 'Gavi', \"Dolcetto d'Alba\", 'Paso Robles Willow Creek District', 'Coteaux du Layon', 'Touraine', 'Fronton', 'Castillon Côtes de Bordeaux', 'Francs Côtes de Bordeaux', 'Valpolicella Classico Superiore', 'Nevada', 'Monterey', 'Les Baux de Provence', 'Collio', \"Virginia's Eastern Shore\", 'Mâcon-Chardonnay', 'Terra Alta', 'Brouilly', 'Colli Orientali del Friuli', 'Givry', 'Beaune', 'Prosecco di Valdobbiadene', 'Gers', 'Fleurie', 'Pomerol', 'Oltrepò Pavese', 'Vermentino di Sardegna', 'Savennières', 'Bordeaux Clairet', 'Sauternes', 'Contra Costa County', 'Moulin-à-Vent', 'Suisun Valley', 'Uco Valley', 'Priorat', 'Bizkaiko Txakolina', 'Barsac', 'Bandol', 'Sancerre', 'Verdicchio dei Castelli di Jesi Classico', \"Lambrusco dell'Emilia\", 'Recioto di Soave', 'Yountville', 'Nevada County', 'Lodi', 'Lambrusco di Modena', \"Barbera d'Asti\", 'Ventoux', 'Veneto', 'Maipú', 'Montefalco Rosso', 'Temecula Valley', 'Cafayate', 'Applegate Valley', 'Cahors', \"Pays d'Oc\", 'Vin de Pays Var', 'Solano County', \"Barbera d'Alba Superiore\", 'Piedmont', 'Mendoza', 'Colline Novaresi', 'Beaujolais-Villages', 'Lessona', 'Gattinara', 'Menfi', 'Coteaux Varois en Provence', 'Getariako Txakolina', 'Anjou Villages Brissac', 'Río Negro Valley', 'Northern Sonoma', 'Spring Mountain District', 'Naches Heights', 'Côtes de Nuits Villages', 'Sonoma Mountain', 'Buzet', 'Gard', 'Fort Ross-Seaview', 'Bordeaux Rosé', 'Barbaresco', 'Coteaux du Giennois', 'Puligny-Montrachet', 'Barolo', 'St. Helena', 'Rosso di Montepulciano', 'Valle de Uco', 'McLaren Vale', 'Valpolicella Classico Superiore Ripasso', 'South Eastern Australia', 'Madiran', 'Margaux', 'Friuli Grave', 'Langhe', 'Côtes du Rhône Villages', \"Crémant d'Alsace\", 'Pécharmant', 'Boca', 'El Dorado County', 'Cava', 'South Australia', 'Frankland River', 'Alto Adige', 'Umbria', 'Santa Barbara County', 'South Coast', 'St.-Romain', 'Saint-Émilion', 'Friuli', 'Gevrey-Chambertin', 'Alta Langa', 'Rosso del Veronese', 'Rutherford', 'Clarendon', 'Reuilly', 'Minervois La Liviniere', 'Sonoma County', 'Saint-Bris', 'Columbia Gorge (OR)', 'Terra degli Osci', 'Jumilla', 'Gaillac', 'Roussette de Savoie', 'Vin de Savoie', 'Alghero', 'Santa Clara Valley', 'Coste della Sesia', 'Okanagan Valley', 'Hermitage', 'Santenay', 'Willamette Valley', 'Columbia Valley (OR)', 'Chianti Colli Senesi', 'Saumur-Champigny', 'Fiano di Avellino', 'Rutherglen', 'Vin de Liqueur', 'Mount Veeder', 'Franciacorta', \"Montepulciano d'Abruzzo\", 'Alto Adige Valle Isarco', 'Luján de Cuyo', 'Adelaide', 'Delle Venezie', 'Taburno', 'Maremma Toscana', 'Lalande de Pomerol', 'Valpolicella Ripasso', 'Côtes du Marmandais', 'Saint-Georges-Saint-Émilion', 'California', 'Napa County-Sonoma County', 'Montsant', 'Torgiano', 'Côtes de Provence', 'Bordeaux Supérieur', 'Oak Knoll District', 'Colorado', 'Michigan', 'Vino de la Tierra de Castilla y León', 'Santa Ynez Valley', 'Potter Valley', 'La Mancha', 'Prosecco di Conegliano', 'New Jersey', \"Barbera d'Alba\", 'Entre-Deux-Mers', 'Mâcon-Verze', 'Colli Martani', 'Côtes du Roussillon Villages Caramany', 'Quarts de Chaume', 'Perdriel', 'Penedès', 'Ruché di Castagnole Monferrato', 'Wahluke Slope', 'Rockpile', 'Vi de la Terra Illes Balears', 'Roero', 'Prosecco del Veneto', 'Colli Trevigiani', 'Patrimonio', 'Chianti Montespertoli', 'Savigny-lès-Beaune', 'Lugana', 'Green Valley', 'Vino Spumante', 'Crémant de Bourgogne', 'Romagna', 'Central Coast', 'Yecla', 'Maury Sec', 'Santa Cruz Mountains', 'Tavel', 'Vouvray', 'Bourgogne Hautes Côtes de Nuits', 'San Benito County', 'Etna', 'Amador County', 'Marsala', \"Trebbiano d'Abruzzo\", 'Bennett Valley', 'Valdepeñas', 'Fair Play', 'Sannio', 'Sonoma Valley', 'Empordà', 'Eola-Amity Hills', 'Alella', 'Chénas', 'Prosecco', 'Saint-Nicolas-de-Bourgueil', 'Cortona', 'Murgia', 'Placer County', 'Yorkville Highlands', 'Primitivo di Manduria', 'Chablis', 'Eden Valley', 'Pouilly-Fuissé', 'Saint-Estèphe', 'Maranges', 'Valpolicella Superiore', 'Chianti Rufina', 'Grand Valley', 'Vin Mousseux', 'Côtes du Rhône', 'Irpinia', 'Muscadet Sèvre et Maine', 'Templeton Gap District', 'Languedoc', 'Ribeira Sacra', 'Geographe', 'Dunnigan Hills', 'Calabria', 'Nuits-St.-Georges', 'Veneto Orientale', 'Jurançon', 'La Consulta', 'Moulis-en-Médoc', 'Texas High Plains', 'Mokelumne River', 'Listrac-Médoc', 'Rioja', 'Frascati Superiore', 'Alexander Valley', 'Leelanau Peninsula', 'Crémant de Limoux', 'Delia Nivolelli', 'Hudson River Region', 'Calchaquí Valley', 'Edna Valley', 'Napa Valley', 'Muscadet Côtes de Grandlieu', 'Friuli Aquileia', 'Carignano del Sulcis', 'Amarone della Valpolicella', 'Mâcon-Milly Lamartine', 'Middleburg', 'Gavi di Gavi', 'Santa Maria Valley', 'Beaujolais', 'Corse', 'Montrachet', 'Vernaccia di San Gimignano', 'Monbazillac', 'Valdadige', 'Saint-Amour', 'Bordeaux', \"Montepulciano d'Abruzzo Colline Teramane\", 'Tasmania', 'Arbois', 'Crémant de Loire', 'Marin County', 'Côtes de Provence Sainte-Victoire', 'Roero Arneis', 'Minervois', 'Chiroubles', 'Sonoma County-Napa County', 'Oakville', 'Adelaide Hills', 'Cadillac Côtes de Bordeaux', 'Clos de Vougeot', 'Walla Walla Valley (OR)', 'Luberon', 'Anderson Valley', 'Picpoul de Pinet', 'Côtes du Jura', 'Napa-Sonoma', 'Bonnezeaux', 'Happy Canyon of Santa Barbara', 'Bolgheri', 'Virginia', 'Mediterranée', \"Moscato d'Asti\", 'Cariñena', 'Dogliani Superiore', 'Alto Adige Terlano', 'Isonzo del Friuli', 'Tupungato', 'Valencia', 'Côtes de Bordeaux', 'Chalk Hill', 'Menetou-Salon', 'Quincy', 'Chalone', 'Mendocino', 'Vacqueyras', 'Puglia', 'Seneca Lake', 'Chianti Classico', 'Bianco di Custoza', 'Haut-Médoc', 'Côtes de Bourg', 'Marsannay', 'Clare Valley', 'San Luis Obispo County', 'Red Mountain', 'Stags Leap District', 'Alto Valle del Río Negro', 'Crémant de Jura', 'Toro', 'Côtes de Gascogne', 'Rosso di Montalcino', 'Chianti', 'Brunello di Montalcino', 'Mendocino Ridge', 'Coonawarra', 'Sonoma-Napa', 'Régnié', 'Salta', 'Sta. Rita Hills', 'Saint-Véran', 'Volnay', 'Pouilly-Fumé', 'Aglianico del Vulture', 'Ile de Beauté', 'Niagara Peninsula', 'Cannonau di Sardegna', 'Isola dei Nuraghi', 'Chorey-lès-Beaune', 'Valdobbiadene Prosecco Superiore', 'Navarra', 'Pessac-Léognan', 'Lake Michigan Shore', 'Bergerac', 'Costières de Nîmes', 'Colline Pescaresi', 'Sicilia', 'Molise', 'Dominio de Valdepusa', 'Italy', 'Gambellara Classico', 'Soave', 'Faugères', 'Prosecco di Conegliano e Valdobbiadene', 'Bergerac Sec', 'Vista Flores', 'Arroyo Grande Valley', 'Graves', 'Rías Baixas', 'Bordeaux Blanc', 'Yarra Valley', 'Vino de la Tierra de Castilla', 'Piave', 'Colli della Toscana Centrale'}\n",
            "{nan, 'Nerello Mascalese', 'Tinto Fino', 'Chardonnay', 'Tinta Fina', 'Port', 'Barbera', 'Mourvèdre', 'Sauvignon Blanc-Semillon', 'Cabernet Merlot', 'Sangiovese', 'Traminer', 'Baga', 'Portuguese Sparkling', 'Rosato', 'Sousão', 'Savagnin', 'Cinsault', 'Catarratto', 'Rieslaner', 'Zibibbo', 'Cabernet Franc', 'White Port', 'Cabernet Franc-Cabernet Sauvignon', 'Portuguese Red', 'Kinali Yapincak', 'Tannat-Syrah', 'Papaskarasi', 'Grechetto', 'Chambourcin', 'Cesanese', 'Sémillon', 'Garnacha', 'Cerceal', 'Merlot-Cabernet Franc', 'Plavac Mali', 'Gamay Noir', 'Pugnitello', 'Gewürztraminer-Riesling', 'Merlot-Argaman', 'Dornfelder', 'Tinta de Toro', 'Claret', 'Rhône-style Red Blend', 'Roussanne', 'Austrian white blend', 'Primitivo', 'Perricone', 'Carmenère', 'Syrah-Cabernet Sauvignon', 'Gewürztraminer', 'Vignoles', 'Marsanne', 'Verdejo', 'Viognier', 'Moscato', 'Fiano', 'Roussanne-Viognier', 'Albana', 'Arinto', 'Torbato', 'Morava', 'Pallagrello', 'Provence red blend', 'Zinfandel', 'Syrah-Merlot', 'Auxerrois', 'Colombard', 'Syrah-Cabernet', 'Pinot Noir-Gamay', 'Pinot Noir', 'Blaufränkisch', 'Shiraz', 'Melon', 'Vilana', 'Verdejo-Viura', 'Müller-Thurgau', 'Gelber Muskateller', 'Bonarda', 'Aragonês', 'Montepulciano', 'Garnacha Tintorera', 'Merlot-Malbec', 'Negroamaro', 'Touriga Nacional', 'Muscat', 'Vernaccia', 'Corvina, Rondinella, Molinara', 'Trebbiano', 'Inzolia', 'Syrah-Petite Sirah', 'Pansa Blanca', 'Muscadelle', 'Bordeaux-style Red Blend', 'Mencía', 'Verdicchio', 'Cabernet Sauvignon-Shiraz', 'Cabernet Sauvignon-Merlot', 'Malbec-Cabernet Sauvignon', 'Pinot Nero', 'Tinta Roriz', 'Chenin Blanc', 'Viura-Chardonnay', 'Cabernet Moravia', 'Pinot Blanc', 'Grenache-Syrah', 'Pinot Gris', 'Lagrein', 'Cortese', 'Verdelho', 'Fernão Pires', 'G-S-M', 'Tempranillo-Merlot', 'Maturana', 'Viognier-Chardonnay', 'Riesling', 'Blanc du Bois', 'Malbec', 'Scheurebe', 'Sylvaner', 'Cabernet Blend', 'Furmint', 'Marsanne-Viognier', 'Pedro Ximénez', 'Tempranillo Blend', 'Petite Sirah', 'Turbiana', 'Syrah-Grenache', 'Xarel-lo', 'Ojaleshi', 'Malvasia Bianca', 'Nero di Troia', 'Muscat Canelli', 'St. Laurent', 'Petit Manseng', 'Fumé Blanc', 'Gamay', 'Glera', 'Avesso', 'Prugnolo Gentile', 'Roter Veltliner', 'Ribolla Gialla', 'Tempranillo', 'Moschofilero', 'Pinot Bianco', 'Mondeuse', 'Sherry', 'Malvasia', 'Falanghina', 'Sauvignon Blanc', 'Weissburgunder', 'Rosado', 'Monastrell-Syrah', 'Godello', 'Vidal', 'Cannonau', 'Albanello', 'Cabernet Sauvignon', 'Sagrantino', 'Pinot Grigio', 'Champagne Blend', 'Friulano', 'Cabernet Sauvignon-Syrah', 'Früburgunder', 'Monastrell', 'Bical', 'Arneis', 'Antão Vaz', 'Refosco', 'Meritage', 'Vidal Blanc', 'Syrah-Petit Verdot', 'Bordeaux-style White Blend', 'Tocai', 'Muskat Ottonel', 'Muskat', 'Rhône-style White Blend', 'Grenache', 'Malbec-Cabernet Franc', 'Alvarinho', 'Garnacha Blanca', 'Traminette', 'Malbec-Tannat', 'Alsace white blend', 'Verduzzo', 'Red Blend', 'Duras', 'Moscatel', 'Cabernet Sauvignon-Carmenère', 'Chardonnay-Viognier', 'Magliocco', 'Sangiovese Grosso', 'Garganega', 'Roditis', 'Prié Blanc', 'Charbono', 'Malagousia', 'Provence white blend', 'Grenache Blanc', 'Tinta Miúda', 'Graciano', 'Touriga Nacional Blend', 'Cabernet Sauvignon-Malbec', 'Saperavi', 'Greco', 'Ruché', 'Spätburgunder', 'Picpoul', 'Teroldego', 'White Blend', 'Kerner', 'Rosé', 'Portuguese White', 'Marsanne-Roussanne', 'Shiraz-Cabernet Sauvignon', \"Nero d'Avola\", 'Zierfandler', 'Nosiola', 'Ugni Blanc-Colombard', 'Grillo', 'Nebbiolo', 'Syrah', 'Pinotage', 'Pecorino', 'Merlot', 'Shiraz-Viognier', 'Sparkling Blend', 'Aragonez', 'Austrian Red Blend', 'Malbec-Merlot', 'Lemberger', 'Cabernet Sauvignon-Sangiovese', 'Silvaner', 'Agiorgitiko', 'Carricante', 'Prosecco', 'Welschriesling', 'Lambrusco di Sorbara', 'Muscat Blanc à Petits Grains', 'Manzoni', 'Insolia', 'Seyval Blanc', 'Tempranillo-Cabernet Sauvignon', 'Lambrusco', 'Encruzado', 'Carignan-Grenache', 'Syrah-Viognier', 'Tannat-Cabernet', 'Dolcetto', 'Semillon-Sauvignon Blanc', 'Albariño', 'Aglianico', 'Sauvignon', 'Zweigelt', 'Chenin Blanc-Chardonnay', 'Feteasca Neagra', 'Sauvignon Gris', 'Grüner Veltliner', 'Altesse', 'Cabernet Franc-Merlot', 'Assyrtico', 'Monica', 'Tannat', 'Torrontés', 'Viura', 'Vermentino', 'Cabernet Franc-Carmenère', 'Pinot Meunier', 'Assyrtiko', 'Frappato', 'Chinuri', 'Petit Verdot', 'Rotgipfler', 'Carignano'}\n",
            "{nan, 'Poças', 'Knapp', 'Pear Valley', 'Gnarly Head', 'Viñalba', 'Wayfarer', 'Nitida', 'Sterling', 'Karma Vineyards', 'Fongoli', 'Château Grande Cassagne', 'Bodega Catena Zapata', 'Mellisoni', 'Château Ferrière', 'Fuentes', 'Covington', 'Rocca', 'Château Fonréaud', 'Terenzi', 'Colli di Lapio', 'Château Larrivet Haut-Brion', 'Borgo Maragliano', 'Alter Ego de Palmer', 'Monte Volpe', 'Marchiori & Barraud', 'Portal del Montsant', 'Maurodos', 'Mumm Napa', 'H. Blin', 'Manzwine', 'TerraMater', 'Michel-Schlumberger', 'Ànima Negra', 'Lungarotti', 'Orogeny', \"L'Antica Quercia\", 'Volver', 'Les Vins Aujoux', 'Matanzas Creek', 'Plantagenet', 'Beaucanon', 'Cordella', 'Casa Santa Vitória', 'Valdicava', 'Paolo Scavino', 'Foris', 'Casa de Vila Nova', 'Château Laubès', 'Domaine François Schmitt', 'Decoy', 'Crane Brothers', 'Armosa', 'Beau Joubert', 'Pirouette', 'Niner', 'Duorum', 'Joseph Cattin', 'Mendocino Farms', 'Coquerel Family Wine Estates', 'Castello Romitorio', 'Saddleback', 'Tre Monti', 'McCrea', 'Altvs', 'Abbadia Ardenga', 'Bianca Vigna', 'Artadi', 'Louis M. Martini', 'Cantina Cortaccia', 'Terlato', 'Lieb', 'Château Léon', 'Château Corbin', 'Sturm', 'Becker', 'YN', 'Domaine les Hautes Noëlles', 'Caparzo', 'COS', 'Wood Family Vineyards', 'Cerbaia', 'Ascencion', 'Herdade da Malhadinha Nova', \"Castello d'Albola\", 'Quivira', 'Raconteur', 'Kathryn Kennedy', 'Robert Perroud', 'Château Routas', 'The Dot', 'Le Fonti a San Giorgio', 'Cristom', 'San Michele Eppan', 'Viszlay Vineyards', 'Cantina di Bertiolo', 'Bouchard Père & Fils', 'French Hill', 'Alleromb', 'Loess', 'Terralsole', 'Kunde', 'Joseph Phelps', 'Jean-Marc Bernhard', 'Patton Valley', 'Santa Maria La Palma', 'Eagle & Rose Estate', 'Rubus', 'Château Bellegrave du Poujeau', 'Dark Matter', 'Mosquito Fleet', 'Robert Karl', 'Cellers Unió', 'Paraduxx', 'Norbert Bauer', 'Perelada', 'Beringer', 'André Blanck et ses Fils', 'Willi Haag', 'Chateau de Launay', 'Castellroig', 'Mirafiore', 'Phantom Rivers', 'Ferrari-Carano', 'Cembra', \"Cantine Sant'Agata\", 'Beaumont', 'Recanati', 'La Calonica', 'Porta', 'Washington Hills', 'G. H. Mumm', 'Château de la Vieille Tour', 'Château Pavillon de Boyrein', 'Ghost Pines', 'Mureda', 'Château Beau-Séjour Bécot', 'Di Majo Norante', 'Lolonis', 'Au Pied du Mont Chauve', 'Krupp Brothers', 'Evans & Tate', 'Retro', 'Viniverde', 'Château Branaire-Ducru', 'Three Brothers', 'Domaine Rieflé', 'Robert Renzoni', 'Spell', 'Trisaetum', 'Pelter', 'C. von Nell-Breuning', 'Sanpaolo', 'Domäne Wachau', 'Olsen Private Vineyards', 'Tommasi', 'Bella Ragazza', 'Tramin', 'Starmont', 'Finca Las Moras', 'Baron-Fuenté', 'Rare', 'Hahn', 'De Bortoli', 'Raats Family', 'Château Haut-Brion', 'Primosic', 'Potomac Point', 'Pollak', 'La Tunella', 'Château Rahoul', 'Gru', 'Quinta Nova de Nossa Senhora do Carmo', \"Ca' del Bosco\", 'Hope Estate', 'Quinta de Foz de Arouce', 'Pascal Aufranc', 'Valtravieso', 'Ventana', 'Quinta de Paços', 'Hesketh', 'Casto Oaks', 'Adega Cooperativa Ponte de Barca', 'Barton', 'Tenuta Forconi', 'Vino dei Fratelli', 'Bula', 'Ken Forrester', 'Campolargo', 'Cottesbrook', 'Virna Borgogno', 'Maray', 'Quinta do Filoco', 'Frank Family', 'Zahel', 'Grgich Hills', 'Gaba do Xil', 'Pope Valley Winery', 'Le Strette', 'Billsboro', 'Clos de Chacras', 'Château Bel-Air Ortet', 'Lachini', 'Cedar Mountain', 'MacRostie', 'Le Albare', 'Marco Cecchini', 'Ferrari', 'Liberated', 'Hungerford Hill', 'Collet', 'Arboleda', 'Château de Fuissé', 'Picardy', 'Cantine Barbera', 'Bodegas Campante', 'Seven Hills', 'Stevenot', 'Castelluccio', 'Stephen Ross', 'Clarendon Hills', 'Finca Albret', 'Château Mancèdre', 'Villa Matilde', 'Bernard Baudry', 'Jurtschitsch', 'Mulvane Wine Co.', 'Poeira', 'Loimer', 'Royal Oporto', 'Poggio Alloro', 'Native 9', 'Château Haut Boilon', 'Cuna del Sol', 'Benanti', 'Fratelli Berlucchi', 'Villa Erbice', 'Evel', 'Massi di Mandorlaia', 'Domaine Zind-Humbrecht', 'Château de Paillet-Quancard', 'Luis Felipe Edwards', 'MacLaren', 'Château Gaillard', \"King's Garden Vineyards\", 'Volatus', 'Cosentino', 'Valentina Cubi', 'Dogwood', 'Château Kalon Nodoz', 'Navardia', 'Piña', 'Terre Brûlée', 'Mezzacorona', 'Joseph Drouhin', 'Tenuta San Guido', 'Hosmer', 'Keller Estate', 'Hendry', 'Analemma', 'Shafer', 'Château Maison Noble Saint Martin', 'Le Bertarole', 'Merrill Cellars', 'Cennatoio', 'Delaforce', 'Hidden Jewel', 'Le Petit Cochonnet', 'Château Cambon la Pelouse', 'Amalaya', 'Twisted', 'Phoenix Ranch', 'Château Pape Clément', 'Chaddsford', 'Weingut Hans Bausch', 'Ruinart', 'Pinord', 'Melville', 'Robledo', 'Château Paradis', 'Domaine Sainte-Marie', 'Graham Beck', 'Domaine des Terrisses', 'Villa Mangiacane', 'Fischer', 'Wunsch & Mann', 'Tilia', 'Canalicchio Franco Pacenti', 'Loft', 'Peachy Canyon', 'Ferrer Bobet', 'Talamonti', 'Charles Joguet', 'Dopff Au Moulin', 'Robert Stemmler', 'La Fusina', 'Hill Wine Company', 'Trump', 'Quinta da Padrela', 'Finca Lalande', 'Wild Oak by St. Francis', 'Johannishof', 'Folin Cellars', 'L.A. Cetto', 'Rafael Cambra', 'Cairdean Estate', 'Massolino', 'Château Macquin', 'Cramele Recas', 'Brophy Clark', 'Freeman', 'Aesthete', 'Hunt Cellars', 'Socré', 'Palacios Remondo', 'Querciavalle', 'Viña Casas Patronales', 'Scotto Family Cellars', 'Chateau Lafayette Reneau', 'Terrazas de Los Andes', 'Montresor', 'Prospero', 'ZD', 'Proemio', 'Brys', \"Angove's\", 'Château Buisson-Redon', 'Four Lanterns', 'Osborne', 'Longevity', 'Cave B', 'Le Casematte', 'Domaine Girard', 'Cueva de las Manos', 'Ballentine', 'Groth', 'Carletto', 'Villa Mottura', 'Stark-Condé', 'Passing Time', 'Monte De Oro', 'Ruffino', 'Whitehall Lane', 'Patrick Javillier', 'Courtney Benham', 'Graf Hardegg', 'Reustle', 'Brimoncourt', 'Margerum', 'Kuentz-Bas', 'Acústic', 'Château Léoville Poyferré', 'Lackner Tinnacher', 'Keating', 'Bernhard Ott', 'Locus', 'Parker Station', 'Vice Versa', 'Thörle', 'Cookies & Cream', 'Del Rio', 'Sparkman', 'Lange', 'Bodegas 1898', 'Cummins Road', 'Muga', 'Erath', 'Trus', 'Salentein', 'La Prevostura', 'Benoît Daridan', 'Greyscale', 'Adega Cooperativa de Borba', 'Bjornstad', 'Château Roquevieille', 'Domaine Cazes', 'Giacomo Grimaldi', 'Benmarl', 'Fess Parker', 'Cosme Palacio y Hermanos', 'Domaine Drouhin', 'Cardwell Hill', 'Producta Vignobles', 'Château Godard', 'Gloria Ferrer', 'Matetic', 'Horsepower', 'Casa Ferreirinha', 'Pali', 'Vinadeis', 'Ammunition', 'Domaine de la Pepière', 'Trueheart', 'Castello di Montegiove', 'Good Harbor', 'Château La Fleur Plaisance', 'Château le Payral', 'Red Truck', 'Oveja Negra', 'Amavi', 'Simple Machine', 'Nefarious', 'Domaine Roland Schmitt', 'Ricci Curbastro', 'Keuka Lake Vineyards', 'Bodegas Luzón', 'G7', 'Château Lilian Ladouys', 'Daniel Chotard', 'Occasio', 'Château Lauduc', 'Rock Wall', 'Fiuza', 'Cooper-Garrod', 'Sandeman', 'RoxyAnn', 'Judith Beck', 'Castorani', 'Travaglini', 'Roanoke Vineyards', 'Barale Fratelli', 'Antucura', 'Communication Block', 'Domaine Delsol', 'Matthews', 'Casa Rojo', 'Château Sainte Marguerite', 'Cave de Cleebourg', 'The Farm Winery', 'Château la Grande Barthe', 'Avennia', 'Ceretto', 'Concha y Toro', 'Winzer Krems', 'Barrière Frères', 'Mocali', 'Watershed', 'Kintonis', 'Telmo Rodríguez', 'Cantine Grasso', 'Coghlan', 'Cousiño-Macul', 'X', 'Tie-Dye', 'Parusso', 'Cambria', 'Edmonds Winery', 'Long Flat', 'Coli', 'Michael David', \"Tyrrell's\", 'Bink', 'Akarua', 'Pine Ridge', 'Rivetto', 'Corley', 'Rijckaert', 'Fenestra', 'Strauss', 'Lagar de Bezana', 'Lovingston', 'Barba', 'Montepio', 'Château la France', 'Sol Duc', 'Reyneke', 'Château Couhins', 'Bonny Doon', 'Les Vignerons Réunis de Monségur', 'Pomar Junction', 'Materra Cunat Family Vineyards', 'Dragonette', 'Nederburg', 'Antichi Vinai 1877', 'Creō', 'Vinos de Arganza', 'Jefferson Vineyards', 'Bodegas Tobía', \"Sarah's Vineyard\", 'Domaine Schoffit', 'Glen Ellen', 'Provam', 'Raymond', 'Etienne de Tauriac', 'Bridlewood', 'Bodegas Paniza', 'Orion Wines', 'R2', 'Hightower', \"Frog's Leap\", 'Château de Parnay', 'Tablas Creek', 'Mulderbosch', 'Bründlmayer', 'Blue Valley', 'Domaine Carneros', 'Ashan', 'Borges', 'Gross', 'Borsao', \"World's End\", 'Archgate Cellars', \"Château d'Aydie\", 'Nuiton-Beaunoy', 'Peter Nicolay', 'Ardor', 'Recuerdo', 'Calera', 'Karl Kaspar', 'Dr. Heidemanns-Bergweiler', 'Abacela', 'Turnbull', 'Nadia', 'Castillo Rocio', 'Efeste', 'Pierre Gruber', 'Jean León', 'Finca La Pica', 'Red Rock', 'Domaine Jessiaume', 'Pecchenino', 'Alberto Longo', 'Au Jus', 'Foradori', 'Borgo Scopeto', 'Perlage', 'Dr. Wehrheim', 'Vine Cliff', 'Colterenzio', 'Fattoria Giuseppe Savini', 'Berryessa Gap', 'La Spinona', 'Ledger David', 'Domaine Harmonie des Arpents', 'Cadus', 'Aldonia', 'Tines', 'Whitman Cellars', 'Limited by Cambridge Cellars', 'Château Grand Boise', 'Easton', 'Pommery', 'Beaulieu Vineyard', 'Marques de Griñon', 'Paul Blanck', 'Pearson Vineyards', 'Giefing', 'Moretti Omero', 'Mossback', 'Chelsea Goldschmidt', 'Cobb', 'Viña Santa Monica', 'Pahrump Valley Winery', 'Luminous Hills', 'Chandon', 'Le Marchesine', 'Greystone Cellars', 'Redtree', 'J. Rickards', 'Angove', 'Aubichon Cellars', 'Bodegas Muriel', 'Cave de Saumur', \"D'Arenberg\", 'Kale', 'Château Bouscaut', 'Château Tour Rozier', 'Walt', 'Château Montlandrie', 'Emile Beyer', 'Valiano', 'Bodegas Peñafiel', 'Prieler', 'Radford Dale', 'Casal da Coelheira', 'Frédéric Brouca', 'Mignanelli', 'Quinta do Pinto', 'Squawking Magpie', 'Domaine Pral', 'Pezzi King', 'Château Liversan', 'Carrick', 'Gotsa Family Wines', 'McPherson', 'Treana', 'Domaine Degher', 'Kiwi Cuvée', 'Lineage', 'Pighin', 'Vignobles Bonhur', 'Caligiore', 'Dr. Fischer', 'Domaine Cabirau', 'Château Saint-Didier-Parnac', 'Château de Fesles', 'Vermeil', 'Brochelle Vineyards', 'Epoch Estate Wines', 'Folie à Deux', 'Sextant', 'Flying Trout', 'L. Tramier & Fils', 'Stemmari', 'Fornacina', 'E. Guigal', 'Maria Casanovas', 'Companhia das Quintas', 'Secret Spot Wines', 'Gainey', 'Charles & Charles', 'Columbia Winery', 'Green Truck', 'Domaine St Pierre', 'Château du Tertre', 'Bindi Sergardi', 'Chateau Ste. Michelle', 'Domaine Philippe Gilbert', 'Felipe Rutini', 'Henri Bourgeois', 'JAQK Cellars', 'Oakville Winery', 'Angel Vine', 'Il Chiosso', 'Constant', 'Ochoa', 'Stevens', 'Sembro', 'Raphael', 'Broadway Vineyards', 'Château des Tourtes', 'Pride Mountain', 'Hartenberg', 'Château de la Roulerie', 'Stoneburn', 'Frias', 'Yealands', 'Benegas', 'V. Sattui', 'Kanonkop', 'Selva Capuzza', 'Kopke', 'La Valentina', 'Montevicor', 'Château Clerc Milon', 'Zuccardi', 'Vietti', 'Paolo Manzone', 'Terredora', 'Col Saliz', 'Château Pindefleurs', 'Orentano', 'Château Croizet-Bages', 'Domaine de Fondrèche', 'Coiled', 'Broccardo', 'Luis Segundo Correas', 'Albet I Noya', 'Arbios', 'Quinta de Covela', 'Quintay', 'Ballast Stone Estate Wines', 'Domaine Zinck', 'Quinta da Ribeirinha', 'La Storia', 'Kaleidos', 'Clos Teddi', 'Uptick Vineyards', 'Trapiche', 'Leo', 'Castello di Gabbiano', 'Arbéta', 'Mouchão', 'Fattorie Romeo del Castello', 'Parducci', 'Il Palagio', 'Jarvis', 'Bodegas Dios Baco S.L.', 'Samuel Tinon', 'Proulx', 'Belden Barns', 'Van Ruiten', 'Domaine Fritz Schmitt', 'Quinta da Romeira', 'Nicosia', 'Principe di Corleone', 'Falezza', 'Carpineto', 'Mémoires', 'Terre di Giurfo', 'Vinavanti', 'Antonio Mas', 'Seia', 'Conde de Subirats', 'Quinta de Chocapalha', 'Serpaia di Endrizzi', 'Greek Wine Cellars', 'Wine with Spirit', 'Quinta do Vesuvio', 'Viento', 'Archery Summit', 'Brancaia', \"Trabucchi d'Illasi\", 'Pietranera', 'Laurenz V.', 'Rock Point', 'Pezat', 'Adelsheim', 'Grimaldi Bruna', 'Château Barreyres', 'The Gardener', 'Castelgiocondo', 'Vigilance', 'Kings Ridge', 'Trinity River', 'Sidewood', 'Ceago Vinegarden', 'Cass', 'Macari', 'Black Swan', 'Qupé', 'Fabbioli Cellars', \"Château d'Epire\", 'Firriato', 'Damalisco', '401K', 'Roederer Estate', 'Viña Otano', 'Thomas Halby', 'Aiken', \"Domaine de l'Hermitage\", 'Boeger', 'Ampelos', 'Chateau le Grand Verdus', 'Gian Piero Marrone', 'LXV', 'Replica', 'Waters Crest', 'Convergence Zone', 'Chanin', 'Riglos', 'Chateau Grand Traverse', 'Johanneshof Reinisch', 'Univitis', 'Cline', 'Carmel Road', 'Ken Wright', 'Castellinuzza e Piuca', 'Rosenblum', 'Hobo', 'Yangarra Estate Vineyard', 'Château Guichot', 'Domaine Seguin', 'Château Cap Léon Veyrin', 'Gérard Bertrand', 'Château Bélingard', 'Lanson', 'Quinta dos Poços', 'Domaine Bertagna', 'Cade', 'Joh. Jos. Prüm', 'Silvertip', 'Clos Beauregard', 'Fratelli Zeni', 'Ocone', 'Sandler', 'Viticoltori Senesi Aretini', 'Corison', 'Château Laurou', 'Swiftwater Cellars', 'Roquette e Cazes', 'Clayhouse', 'Château de Santenay', 'La Playa', 'Prats & Symington LDA', 'Corte San Benedetto', 'Happy Canyon Vineyard', 'William Fèvre', 'Glenora', 'Vigneti Villabella', 'Vasse River', 'Château Phélan-Ségur', 'Philippe Fontaine', \"Angel's Cup\", \"D'Angelo\", 'Barnard Griffin', 'Stonehouse', 'Laird', 'Casale Triocco', 'Ravines', 'Herencia', 'Zolo', 'Viñedos y Bodegas Pablo', 'Battaglio', 'Ugly Duckling', 'Derby', 'Mazzocco', 'Rudius', 'Piro', 'Negro Angelo e Figli', 'Château La Clare', 'Olivi', 'Ministry of the Vinterior', 'Carol Shelton', 'Charles Krug', 'Cupcake', 'Hearst Ranch', 'Ventosa', 'Schloss Halbturn', 'Hunt McKay', 'Cantine Maschio', 'Montecariano', 'Sattlerhof', 'Cavallotto', 'Solminer', 'Basel Cellars', 'Château Haut Bertinerie', 'Leonesse Cellars', 'Château La Conseillante', 'Ceuso', 'Fattoria La Striscia', 'Bodegas Cerrosol', 'Riecine', 'Murgo', 'Castelli Martinozzi', 'St. Pauls', 'Bucci', 'Château Lalande Méric', 'Gruet', 'F X Pichler', 'Cocobon', 'Tabor', 'Fullerton', 'Quintas de Melgaço', 'Camigliano', 'Hunnicutt', 'Viu Manent', 'Domaine Bertrand', 'Gilberts', 'Mercer', 'Matsu', 'Cantine del Notaio', 'Terre Rouge', 'Le Ragnaie', 'Zonin', 'José Dhondt', 'Salvatore Molettieri', 'Château Ramafort', 'Sieber Rd', 'Vieux Château Gaubert', 'Graffigna', 'Contrade di Taurasi - Lonardo', 'Talley', \"Château Cos d'Estournel\", 'Rieflé', 'Breggo', 'Grayson', 'Ronco Blanchis', 'TerraNoble', 'Francesco Rinaldi', 'Chic Barcelona', \"Château d'Or et de Gueules\", 'Paltrinieri', 'Domaine du Tariquet', 'Frostwatch', 'Baker & Brain', 'Real Companhia Velha', 'Napa Family Vineyards', \"Quinta de Sant'Ana\", 'Falkner', 'Roche de Bellene', 'Yering Station', 'Bernard Magrez', 'Fuse', 'Rietvallei Estate Wine', 'Quinta das Maias', 'JCB', 'Adami', 'Woodward Canyon', 'Jasper Hill', 'Darcie Kent Vineyards', 'Château Saint-Estèphe', 'Château Coutinel', 'Cliff Lede', 'Alexander Valley Vineyards', 'Drappier', 'Freakshow', 'Sonoma Crest', 'Bridgeway', 'Carneros Creek', 'La Posta', 'Vinchio-Vaglio Serra', 'Anthony Nappa', 'Manara', 'Viluko', 'Von Schleinitz', 'Palma Real', 'Château de Pressac', 'Parcel 41', 'Mitolo', 'Cuevas del Sur', 'Doña Paula', 'Stoller', 'Vicente Faria Vinhos', 'Domaine Saint Andrieu', 'Roco', 'Château Laforge', 'Sweet Cheeks', 'Armanino Family Cellars', 'Podere Ciona', 'Montemercurio', 'Palladino', 'Ruhlmann', 'Caposaldo', 'Capanne Ricci', 'Gillmore', \"Le Vigne di Ca' Nova\", 'Philipp Kuhn', 'Woodbridge by Robert Mondavi', 'Huré Frères', 'Domaine Laporte', 'Château Bois Noir', 'Sparkling Pointe', 'Cave de Kientzheim-Kaysersberg', 'Matrix', 'Lava Cap', \"Barker's Marque\", 'Mario Schiopetto', 'Dunbar', 'Two Brothers', 'Leone de Castris', 'Sartori', 'Louis de Grenelle', 'Donum', 'Mauritson', 'Château de Bordes-Quancard', 'Viticoltori Ponte', 'Diego Conterno', 'Mas Pere', \"Le P'tit Paysan\", 'Sant Agnese dei F.lli Gigli', 'Santa Ines', 'Beacon Hill', 'Chateau Dereszla', 'La Cave des Vignerons de Pfaffenheim', 'Philippe Colin', 'Planeta', 'Clement et Florian Berthier', 'Château Gruaud Larose', 'Famille Laplace', 'Zaca Mesa', 'Talisman', 'Château de Sancerre', 'Monte da Penha', 'Bock', 'Maison Nicolas Perrin', 'Tercos', 'Campo al Noce', 'MandraRossa', 'Atwater', 'Taliano', 'Omaka Springs', 'Vicente Gandia', 'El Esteco', \"Jacob's Creek\", 'Piattelli', 'Delfino', 'Rodney Strong', 'Savannah-Chanelle', 'Domaine Ostertag', 'Michele Chiarlo', 'Quinta da Zaralhôa', 'Alex Gambal', 'Bishop Creek Cellars', 'Agustí Torelló Mata', 'Thorn Clarke', 'Grove Mill', 'David Duband', 'Avancia', 'Mont Gravet', 'Don Miguel Gascón', 'Vall Llach', 'Wine & Soul', 'Joseph Filippi', 'Manoir du Carra', 'Brecon Estate', 'Château de Callac', 'Deaver', 'Domaine Vrignaud', 'Fondo Antico', 'Louis Latour', 'Analivia', 'Grand Rêve', 'Erba', 'White Oak', 'Three Sticks', 'Left Coast Cellars', 'Domaine de la Madone', 'Château le Pape', 'Ovum', 'Castillo de Liria', 'Vino Vargas', 'MAN Vintners', 'Del Carlo Winery', 'O. Fournier', 'Bott Frères', 'Château du Moulin Rouge', \"Holly's Hill\", 'Château de la Croix', 'Estate Biblia Chora', 'Viticultori Associati Canicatti', 'Eponymous', 'Cave des Vignerons de Buxy', 'Uccelliera', 'Fabiano', 'Château de Rochemorin', 'Château La Garricq', 'Hewitt', 'Château Vray Croix de Gay', 'Pacific Rim', 'Small Vines', 'Mendel', 'Coto de Hayas', 'Quattroventi', 'Fattoria La Vialla', 'Marqués de Cáceres', 'Girard', 'Chopo', 'Rozes', 'Sante Arcangeli', 'Bella', 'Il Veltro', 'Dierberg', 'Alma Rosa', 'Bava', 'Corte Falco', 'Wild Horse', 'Santa Quiteria', 'Château Dassault', 'Tudal', 'Shingleback', 'Blanchard & Lurton', 'Château Haut Cabut', 'Casca Wines', 'Mirror', 'Passopisciaro', 'Maximo', 'Hindsight', 'Château Méric', 'Congress Springs', 'Casa di Terra', 'Setzer', 'Perception', 'Château Saintongey', 'Jean-Michel Cazes', 'Antica Corte', 'Guenoc', 'Château Latour-Martillac', 'Bucher', 'RustRidge', 'Feudo Montoni', 'Signorello', 'Barlow', 'Joseph Burrier', 'Hagafen', \"Ca' de Calle\", 'Inspire Moore', 'Quai de la Lune', 'Trinchero', 'Pico Maccario', 'Suavia', 'Gary Farrell', 'Alain Brumont', 'Sierra Cantabria', 'Sogevinus', 'Smith-Madrone', 'La Fenêtre', 'Tandem', 'Château Rabaud-Promis', 'Pradio', 'In Re', 'Astoria', 'Poggioventoso', 'Marionette', 'Hanzell', 'Plungerhead', 'Château Haut-Peyrous', 'Podere Scopetone', 'Clarksburg Wine Company', 'Benvenuto de la Serna', 'Ridolfi', 'Valentin Bianchi', 'Chester Kidder', 'Bunnell', 'Alta Vista', 'Château de Birot', 'Bolsignano', 'Dry River', 'Longview', 'Alpamanta', 'Irony', 'Heidi Schröck', 'Château La Mission Haut-Brion', 'Westerly', 'Kaiken', 'Jean-Baptiste Adam', 'Hunt Country Vineyards', 'Château Teyssier', 'Granbazán', 'Vignobles Carreau Selection', 'Quinta da Foz', 'Château la Varière', 'Les Rocailles', 'Rio Madre', 'Hawks View', 'Stift Klosterneuburg', 'Paumanok', 'Deutz', 'Anna Spinato', 'Lo Nuevo', 'Domaine Henry Pellé', 'Sleeping Giant', 'Syncline', 'Pedro Escudero', 'Guardian', 'Resalte', 'Lauren Ashton Cellars', 'Sonsierra', 'Ojai', 'Finca La Emperatriz', 'Villa San Juliette', 'Lane Tanner', 'Ruby', 'Château de Campuget', 'Pictor', 'Bailly-Lapierre', 'La Gerla', 'Château Lalande-Borie', 'Tinto Rey', 'Souverain', 'Podere Brizio', 'Justin', 'Château Fontenil', 'Henri Schoenheitz', 'Château Dutruch Grand Poujeaux', 'Mont Sec', 'De Sousa & Fils', 'Majolini', 'Youngberg Hill Vineyards', 'Highland Cellars', 'Robert Mondavi', 'Deltetto', 'Hahn Estates', 'Ursa', 'Monte Seis Reis', 'Autumn Hill', 'Château de Lestiac', 'Gottfried Mocke Wine Projects', 'En Garde', 'Domaine Henri Delagrange', 'Domaine Ste. Michelle', 'Senda Verde', 'Scarborough', 'Gustav Adolf Schmitt', 'Wildberry Estate', 'Wise Villa', \"Hanaiali'i\", 'Quinta do Castelinho', 'Kenneth Volk', 'Tumwater', 'Clos de Gamot', 'Brigaldara', 'Pierre André', 'Château la Gordonne', 'Hart 2 Hart', 'Binyamina', 'Guerrieri Rizzardi', 'Rocca Bernarda', 'Ghost Waltz', 'J Vineyards & Winery', '2nd Chance', 'Nadler', 'Feudi di San Marzano', 'Sanglier Cellars', 'Soutiran', 'Protos', 'Parallel', 'Venturini Massimino', 'Flora Springs', 'Château Smith Haut Lafitte', 'Pine & Brown', 'Poderi Colla', 'La Catrina', 'Bowman Cellars', 'Shoofly', 'Tsantali', 'Baglio del Cristo di Campobello', 'Le Vigne di Alice', 'Caccia al Piano 1868', 'Capannelle', \"Château d'Angludet\", 'García Figuero', 'Cusumano', 'Château Salettes', 'Nastl', 'Lost Angel', 'Degani', 'Michael Gill Cellars', 'DeLille', 'Round Pond', 'Château de Sours', 'Cascada Peak', 'Feudo di Santa Tresa', 'Lucienne', 'Cantine di Dolianova', 'Kohl', 'Château Donjon de Bruignac', 'Domaine Clos Gautier', 'Castro Pena Alba', 'Seven Falls', \"Cana's Feast\", 'La Vida al Camp', 'Cloudy Bay', 'Carmina', 'Doyenne', 'Kazmer & Blaise', 'Horan Estates', 'Bret Brothers', 'Paris Valley Road Cellars', 'DFJ Vinhos', 'Vincent Vineyards', 'Marsuret', 'MooBuzz', 'Domino', 'Morgan', 'Château La Branne', 'Quinta das Arcas', 'Nica', 'Peju', 'Grifalco', 'Notro', 'Hecho por Ruben', 'Château de Ferrand', 'Burrell School Vineyards', 'Maggiovini', 'Adanti', 'Coho', 'Vranken', 'Bota Box', \"Terra d'Oro\", 'Armida', 'Azamor', 'Quinta do Portal', 'St. Francis', 'Monteviejo', 'Peltier', 'Kadesh Barnea', 'Quinta de Arcossó', 'Claiborne & Churchill', 'Penumbra', 'Hermann J. Wiemer', 'Jamesport', 'Agricoltori del Chianti Geografico', 'Bellwether', \"Henry's Drive Vignerons\", 'Bodegas Riolanc', 'Cap Royal', 'Conte Collalto', 'TAO', 'Rios de Chile', 'Château Bois Chantant', 'Market Vineyards', 'McIlroy', 'Domaine Roblin', 'Clos Fardet', 'Giavi', 'Cave de Beblenheim', 'Bodegas Berceo', 'Château Margaux', 'Morandé', 'Mamarracho', 'Rancho Zabaco', 'Chase', \"L'Ecole No. 41\", 'Domaine Leflaive', 'Agricola Bellaria', 'Cantina del Barone', 'Wildhurst', 'First & Local', 'Valley of the Moon', 'San Polino', 'Jaffelin', 'Chambers Rosewood Vineyards', 'Venta Morales', 'Feudi del Pisciotto', 'Château Tour des Gendres', 'Terroirs et Talents', 'San Lorenzo', 'Château Lafont Menaut', 'Wine by Joe', 'Cantina Valle Tritana', 'Bersano', 'Viña Alicia', 'Ceralti', 'Domaine Maillard', 'Windy Bay', 'Fazio', 'Vino La Monarcha', 'Bodegas Valdemar', 'Cairdeas', 'Albatross Ridge', 'Cellars 33', 'San Felipe', 'Tapeña', 'Tenuta La Marchesa', 'Coronica', 'Point & Line', 'One Leaf', 'Trimbach', 'Cayuse', 'Uvaggio', 'Marquee', 'Chehalem', 'Summerer', \"Union de Vignerons de l'Île de Beauté\", 'Monte da Ravasqueira', 'Michael-Scott', 'Brotherhood', 'Château Maris', \"Ca' Momi\", 'Domaine Bott-Geyl', 'Hawk and Horse Vineyards', 'Norman', 'Mosby', 'Tiza', 'Shaw and Smith', 'Salomon-Undhof', 'Château Trotanoy', 'Château Roc Montalon', 'Roccheviberti', 'Le Riche', 'K Vintners', 'Les Vignobles Gueissard', 'Borgogno F.lli Serio e Battista', 'Topanga', 'Collovray et Terrier', 'No Girls', 'Experience', 'Laroche', 'Miles', 'Brandini', 'Daedalus', 'LoveThisLife', 'Nativ', 'Château Nairac', 'Château Picque Caillou', 'Kuleto Estate', 'François Millet', 'The Withers Winery', 'Château Canon la Gaffelière', 'Pieropan', 'Domaine Huët', 'Terra Valentine', 'Portalupi', 'Record Family Wines', 'Charthia', 'Handley', 'Vino V', \"Newman's Own\", 'Claudia Papayianni', 'Pata Negra', 'Gershon Bachus', 'Chatham', 'Buena Vista', 'Picket Fence', 'Flying Cloud', 'Château Vincens', 'Santa Maria', 'Sea Slopes', 'Ardiri Winery and Vineyards', 'Vinoce', 'Pamplin', 'One', 'Joseph Swan Vineyards', \"Jack's House\", 'Château Ducluzeau', 'Rayun', 'Brander', 'Bailiwick', 'Vignavecchia', 'Ledgewood Creek', 'Hirsch', 'The Federalist', 'Pio Cesare', 'Ridge', 'Domìni Veneti', 'Giuliano Tiberi', 'Lamadrid', 'Quinta das Carvalhas', 'Comelli', 'Finca Vides', 'Tricky Rabbit', 'Domaine Franck Besson', 'Borgo Conventi', 'Roadhouse Winery', 'Lancaster', 'Villa Maria', 'Seventy Five Wine Co.', 'El Escocés Volante', 'Carl Graff', 'Domaine Philippe Portier', 'Zenato', 'Waterbrook', 'Gracianna', 'Aveleda', 'Raptor Ridge', 'Deerfield Ranch', \"Château d'Esclans\", 'Lake Breeze', 'Carlos Basso', 'Canicattì', 'Talenti', 'Casajús', 'Condado de Oriza', 'Acrobat', 'Testarossa', 'Jadix', 'Carpenè Malvolti', 'Rheingraf', 'Las Positas', 'Navarro', 'Bosque De Matasnos', 'Skinner', 'Or Haganuz', 'Bodegas San Valero', 'Danie de Wet', 'Williams Selyem', 'Château Larrivaux', 'Archium', 'Kooyong', 'Musella', 'Unger', 'Durigutti', 'Sculpterra', 'Chatter Creek', 'Collier Falls', 'Finca Sophenia', 'Le Roi des Pierres', 'Abbazia di Novacella', 'Evergreen Vineyards', 'Schlink Haus', 'Thomas Fogarty', 'Istine', 'Mesa Del Sol', 'Trione', 'Shvo', 'El Enemigo', \"Ca' Nova\", 'Antico Colle', 'Château Lamothe-Vincent', 'Bonacchi', 'Witching Stick', 'Krutz', 'Tiefenbrunner', 'OT', 'Château des Jacques', 'Little Black Dress', 'Silver Thread', 'Estampa', 'Gadais Père et Fils', \"Osprey's Dominion\", 'Gemella', 'Bodega Tacuil', 'Aurelio Settimo', 'Château Soutard', 'Harlow Ridge', 'Cobblestone', 'Tenuta Duecorti', 'Château Tour de Mirambeau', 'Turn Four', 'Taverna', 'Rascal', 'Val do Sosego', 'Wirra Wirra', 'Altos Las Hormigas', 'Bethel Heights', 'Château Laronde Désormes', 'Pomum', 'Maximin Grünhäuser', 'Bryx', 'Sineann', 'Hawk Watch Winery', 'Quinta do Casal Monteiro', 'Quinta da Rede', 'Manyana', \"Molino di Sant'Antimo\", 'Chakras', 'Sean Thackrey', 'Mastroberardino', 'Pull', 'Palivou', 'Alvear', 'One Hope', 'Ports of New York', 'Fattoria Sardi', 'La Merika', 'Arrowood', 'Giuseppe Lonardi', 'Pierre Gimonnet et Fils', 'Château Pavillon Bel-Air', 'Miali', 'Dampierre', 'Fritz Haag', 'Donnafugata', 'Babcock', 'Consilience', 'Fetzer', 'Juvé y Camps', 'Jidvei', 'El Burro', 'Bulas', 'Château Los Boldos', 'Château Marac', 'Volker Eisele Family Estate', 'Melipal', 'Breaux', 'Clos La Chance', 'Half Mile Creek', 'Twisted Sisters', 'Vecchia Cantina di Montepulciano', 'Manincor', 'Viña Mar de Casablanca', 'Sojourn', 'Pieve Vecchia', 'Domaine du Grand Cros', 'West Cape Howe', 'Cosa Obra', 'Swedish Hill', 'Scubla', \"Tenuta dell'Ornellaia\", 'Bodegas Tarima', 'Valle Secreto', 'San Pedro de Yacochuya', 'Hogue', 'Ninquén', 'Pat Paulsen Vineyards', 'Greater Purpose', 'Il Borro', 'Peter Mertes', 'Pillitteri', \"Château d'Arche\", 'Valdinera', 'Tenuta Rocca', 'Leon Beyer', 'Quinta do Crasto', 'Eola Hills', \"Poet's Leap\", 'Cable Car', 'St. Clement', 'P.J. Valckenberg', 'Waypoint', 'Napa Cellars', 'Myka', 'Domaine Ehrhart', 'Camaraderie', 'Revello Fratelli', 'Cascina Ballarin', 'Dr. Loosen', 'Sol Rouge', 'Masseria Setteporte', 'Corvo', 'Antonin Rodet', 'Tenute del Cerro', 'Château Les Hauts de Palette', 'Gundlach Bundschu', 'Vaona', 'Domaine Bru-Baché', 'Quinta de la Rosa', 'Tyler', 'Tiezzi', 'Château Larroque', 'Louis Guntrum', 'Pradorey', 'Robert Hall', 'Genius Wines', 'Walla Walla Vintners', 'Poggio Antico', \"Domaine de l'Ermitage\", 'Niel Santofimia', 'Two Vintners', 'D.R. Stephens', 'Penfolds', 'Herdade do Esporão', 'Stottle', 'Liebart-Régnier', 'Jean-Luc and Paul Aegerter', 'Turiya', 'Cave du Vin Blanc de Morgex et de la Salle', \"Clos d'Argentine\", 'Quinta Dona Matilde', 'Manfred Tement', 'Château Henri Bonnaud', 'Hayman & Hill', 'Adegas Moure', 'Jorge Ordóñez & Co.', 'Vercingetorix VX', \"Ca'Tullio\", 'Dutton Estate', 'Pessagno', 'Malat', 'Algodon', 'La Clarine Farm', 'Aluvé', 'Château Riotor', 'Bouchaine', 'Los Vencejos', 'Enoport', 'Quinta do Casal Branco', 'Cloud 9', 'Judge Palmer', 'Eschenhof Holzer', 'El Coto', 'Lété-Vautrain', 'Leaping Horse', 'Fattori', 'Viña Albali', 'Paul Buisse', 'G D Vajra', 'Carica', 'Pala', 'Clark-Clauden', 'Doña Isadora', 'Gros Ventre', 'Quinta dos Murças', 'Tenuta La Fuga', 'Kuehn', 'Cantele', 'Iron Horse', 'Monte del Frá', 'Mt. Beautiful', 'Canihan', 'Markham', 'Mancura', 'Santa Sofia', 'Conn Creek', 'Pedroncelli', 'Sequum', 'Domaine les Pins', 'HandCraft', 'Yalumba', 'Domaine de Rome', 'Echeverria', 'Jaffurs', 'Botromagno', 'Viña Maipo', 'Gamba', 'Horeau-Beylot', 'Castell', 'Bump', 'Passaggio', \"Ciacci Piccolomini d'Aragona\", 'Château du Galoupet', 'Transcendence', 'Whitcraft', 'Rusack', 'Montonale', 'Liberty School', 'Les Vins de Vienne', 'Madonna Alta', 'Sommariva', 'Bianchi', 'Château du Coudray Montpensier', 'Château de Panigon', 'Tre Nova', 'Nisia', 'A. Christmann', 'Travignoli', 'Nittnaus Hans und Christine', 'Vin Roc', 'Château de Chaintres', 'Paul Cheneau', 'August Truth', 'Domaine du Vissoux', 'Yvon Mau', 'Château Grand Billard', 'Donkey & Goat', 'Alba', 'Doña Silvina', 'Black Stallion', 'Madmon', 'Brennan', 'Elyse', 'Gamache', 'Big Basin', 'Midsummer Cellars', 'Sixto', 'William Hill Estate', 'Indomita', 'Domaine Faiveley', 'Vergelegen', 'Georges Duboeuf', 'Proper', 'Vigneti Le Monde', 'McKahn', 'Alysian', 'Loup Blanc', 'Nicholson Ranch', 'Chronicle', 'Tenuta Poggio il Castellare', 'Bouza', 'Winkler-Hermaden', 'Blue Fish', 'Domaine Rolet Père et Fils', 'Arger-Martucci', 'Bodegas Artazu', 'Campos de Risca', 'Gardel', 'Barraco', 'WesMar', 'Pizzolato', 'La Crema', 'Villa Girardi', 'Z. Alexander Brown', 'Simone', 'Damsel', 'Château Saint-Urban', 'William Knuttel', 'Domaine Weinbach', 'Duckhorn', 'Altùris', \"Terra d'Alter\", 'Orfila', 'Duca di Salaparuta', 'Bonair', 'Bex', 'Château de Cruzeau', 'Tercic', 'Château Potensac', 'Closerie du Bailli', 'Prix', 'Mercer Canyons', 'Sokol Blosser', 'The Infinite Monkey Theorem', 'Lucky Star', \"Paul O'Brien\", 'Messias', 'Domaine Serene', 'Meadowcroft', 'Pietra Santa', 'Shiloh Road', 'Hess Collection', 'Baccinetti', 'Dowsett Family', 'Giuseppe Rinaldi', 'Eco Terreno', 'Obsidian Ridge', 'Hill-Smith Estate', 'Cellers Baronia del Montsant', 'Xanadu', 'Domaines Landron', \"Marchesi de' Frescobaldi\", 'Lynch Wines', 'Château Pontet-Canet', 'Domaine Terre de Mistral', 'Château Figeac', 'Bontzu', 'Martin Ranch', 'Dilecta', 'Collin-Bourisset', 'Lis Neris', 'Brick Road', 'Fulkerson', 'Château Magdelaine', 'Château Amour', 'Samsara', 'Quinta do Grifo', 'Château les Mottes Pradier', 'Ektimo Vineyards', 'Felix Lavaque', 'Firestone', 'Buried Cane', 'Louis Sipp', 'Merry Edwards', 'Florio', 'Tenuta delle Terre Nere', 'Two Mountain', 'Casa Dumetz', 'Lamole di Lamole', 'Comartin', 'Sanford', 'Val delle Rose', 'La Braccesca', 'Jewelry Box', 'Masottina', 'Anselmo Mendes', 'Podere dal Nespoli', 'Provenance Vineyards', 'Wildewood', 'Château de Pez', 'Gorrebusto', 'Clos Troteligotte', 'Cesani', 'Cascina Chicco', 'Jean-Luc Colombo', 'Previous', 'Aniello', 'Château Lestruelle', 'Riposte', 'Château Monfort Bellevue', 'Clos Pegase', 'Ryan Patrick', 'Domaine Buronfosse', 'Fontanafredda', 'Tendil & Lombardi', 'Consorzio Vini Tipici di San Marino', 'Botalcura', 'Château La Joya', 'Château Bel Air', 'Domaine Carrette', 'Drink Washington State', 'Domdechant Werner', 'Marchesi di Barolo', 'Terlan', 'Bergström', 'Vino Sapien', 'Bellussi', 'Hanna', 'Falua', 'Casarena', 'Rainstorm', 'Obelisco Estate', 'Bradford Mountain', 'Twisted Oak', 'Arthur Metz', 'Saget la Perrière', 'Fattoria La Rivolta', 'Mount Eden Vineyards', 'Anatomy', 'Prager', 'Oliver Conti', 'Barrister', 'Bodega Chacra', 'Il Falchetto', 'Neyers', 'Canoe Ridge', 'Quinta da Lapa', 'Hoodsport', 'Lakewood', 'Château Tour Grand Faurie', 'Château Cap Saint-Martin', 'La Purísima', 'Philo Ridge', 'Purple Hands', 'Cerro Prieto', 'Maldonado', 'Heron Hill', 'Craneford', 'Famille Hauller', 'Brancott', 'Château Notre Dame du Quatourze', 'Château de Raousset', \"Vinai dell'Abbate\", 'Wetzel Estate', 'Bodegas Isidro Milagro', 'Huber', 'Domaine Costa Lazaridi', 'Still Waters', 'Castello di Amorosa', 'Gigante', 'Cave de Lugny', 'Drouhin Oregon Roserock', 'Marilyn Sauvignon Blonde', 'Emmerich Knoll', 'Cono Sur', 'Jean Milan', 'Amador Cellars', 'San Carlo', 'Villa Vignamaggio', 'Taken Wine Co.', 'Vivera', 'Novy', 'Masi', 'Iron Hub', 'Austerity', 'Eikendal', 'Château de Chantegrive', 'Clos Fourtet', 'Château de la Tour', 'Keuka Spring', 'Gini', \"Colter's Creek\", 'Chamlija', 'Bellisco', 'Publix', 'Argyle', \"Les Maîtres Vignerons de la Presqu'île de Saint-Tropez\", 'San Pedro', 'Kokomo', 'Brian Carter Cellars', 'Rocca delle Macìe', 'Vallana', 'Monte Xanic', 'Anaba', 'Padis', 'Firesteed', 'Chilensis', 'Domaines Devillard', 'Demessey', 'Antonino Tringali-Casanuova', 'Northstar', 'Stanton Vineyard', 'Gaucho Andino', 'Écluse', 'Penley Estate', 'California Republic', 'Domaine Daniel Dugois', 'Loring Wine Company', 'Pietro Beconcini', 'Château Tour de Pez', 'Expression 44°', 'Benovia', 'Villa Giada', 'Dark Hundred', 'Asuncion Ridge', 'Umani Ronchi', 'Line 39', 'Domaine de Gensac', 'Red Newt Cellars', 'Crayelle Cellars', 'Vinum', 'Petra', 'Lustau', 'Weingut Liebfrauenstift', 'Cecilia Beretta', 'Basilisco', 'Lyeth', 'Château de Roquebrune', 'Trinity Hill', 'MacPhail', 'Castello di Querceto', 'Jenica Peak', 'Sierra Batuco', 'Vanderbilt', 'Di Meo', 'Volpaia', 'Bonavita', 'Balo', 'La Pitchoune', 'Nick Faldo', 'Scratch', 'Chessman', \"Kedar's K'orus\", 'Château Maison Noble', 'Casa Nuestra', 'Adega de Monção', 'Ridgeview Estate', 'Château Lagrézette', 'Cavalier Bartolomeo', 'Brick & Mortar', 'Goats do Roam Wine Co.', 'Bortolotti', 'Attis', \"Château d'Ollières\", 'Mario Bazán', 'Chaman', 'Verse & Chorus', 'Autonom', 'Curtis', 'Jamieson Ranch', 'Château Canon', 'Bocopa', 'Château Rollan de By', 'Domeniile Panciu', 'Twisted Twig', 'La Fiera', 'Fazeli Cellars', 'Tenuta di Angoris', 'Nottingham Cellars', 'Fattoria di Casalbosco', 'Bodegas Docampo', 'Sixteen by Twenty', 'Viña Arnáiz', 'Château de Piote', 'Dracaena', 'Ciringa', 'Quinta de Ventozelo', 'Cantina Terlano', 'Merriam', 'Trailhead', 'Stomping Ground', 'Terras de Alter', 'Camberley', 'Peirano', 'Domaine de Reuilly', 'Türk', 'Quinta dos Aciprestes', 'Winderlea', 'Sullivan', 'Paul Anheuser', 'Sella & Mosca', 'Barkan', 'WildAire', 'Heinz Eifel', 'DaMa', 'Château Lanscade', 'S.A. Prüm', 'Morlanda', 'Oro de Castilla', \"Housley's Century Oak\", 'Patriarche Père et Fils', 'Frei Brothers', 'Los Portales', 'Casa Julia', 'Franz Haas', 'Castello di Monastero', 'Chronic Cellars', 'Hannes Reeh', 'Contadi Castaldi', 'Lamoreaux Landing', 'Robert Oatley', 'Beckmen', 'Chasseur', 'Cor Cellars', 'Scott Family', 'Corte dei Venti', 'Knudsen', 'Aratás', 'Fillaboa', 'Pazo de Barrantes', 'Treasure', 'Banyan', 'Corte Adami', 'Château de Chénas', 'Michlits', 'Byron', 'Conte Ferdinando Guicciardini', 'Francis Tannahill', 'Davis Family', 'Midnight', 'Delgado Zuleta', 'Sonoma-Cutrer', 'Treos', 'Château Lynch-Bages', 'Terre del Marchesato', 'Howling Moon', 'McIntyre Vineyards', 'Turley', 'DiamAndes', 'Messina Hof', 'Lafazanis', 'Nugan Family Estates', 'Albert Morot', 'Tranche', 'Graceland', 'Château Belgrave', 'Bibbiano', 'Campomaggio', 'Domaine Divio', 'Domaine Pierre Guillemot', 'Moletto', 'Chaltén', 'Emilio Moro', 'Bell', 'Domaine de Gournier', 'Tenimenti Angelini', 'Verterra', 'Enrique Foster', 'Fontanabianca', '14 Hands', 'Concannon', 'Losada', 'Château Simard', \"Sieur d'Arques\", 'Gunter Triebaumer', 'Boasso', 'Tenuta di Sesta', 'Freemark Abbey', 'Valle Hermoso', 'Szigeti', 'François Lurton', 'J. Davies', 'Spring Valley Vineyard', 'Fitapreta Vinhos', 'Vollereaux', 'San Giusto a Rentennano', 'Tildio', 'Vignerons des Terres Secrètes', 'Broken Clouds', 'Foxen', 'Leonard Kreusch', 'Máscara de Feugo', 'Fidelity', 'Envolve', 'Henry Fessy', 'Kollwentz', 'Forefathers', 'Sagelands', 'J. Christopher', 'Ventisquero', 'Acacia', 'Cantina Produttori San Michele Appiano', 'Rentas de Fincas', 'David Fulton', \"Z'IVO\", 'Herdade dos Machados', 'Bougetz', '42°S', \"Churchill's\", 'Vino z Czech', 'Enkidu', 'Caldaro', 'Jason-Stephens', 'Paso a Paso', 'Domaine de Ménard', '2Plank', 'Esterlina', 'Bien Nacido', 'Château la Tour de By', 'Raiza', 'Spagnol', 'Nals Margreid', 'Maddalena', 'Capolino Perlingieri', 'Authentique', 'Boeckel', 'Cordero di Montezemolo', 'Sobredos', 'Château Lafite Rothschild', 'Ceravolo', 'Joseph Fritsch', 'Bodegas Fontana', 'Seconda Stella a Destra', 'Cedar View Winery', 'Simi', 'Santa Luz', 'Château Mouton Rothschild', 'Joseph Jewell', 'Kenwood', 'Rutherford Hill', 'Château la Croix Saint-Pierre', 'Cantina del Pino', 'Gabriel Meffre', 'Attilio Ghisolfi', 'Madrigal', 'Millbrook', 'Red C', 'Domaine Nicolas Boiron', 'Bloomer Creek', 'Domaine Robert Klingenfus', 'Johnson Estate', 'Quinta das Bandeiras', 'Château Mayne Vieil', 'Herdade do Rocim', 'Domaine Julie Belland', 'Vite Colte', 'Louis Max', 'Palencia', 'Pujanza', 'Kirkland Signature', 'Balletto', 'Viña Requingua', 'Lavau', 'Broman', 'Fritsch', 'Stickybeak', 'Vinos Sanz', 'Altemasi', 'Coeur de Terre', 'Raventós de Alella', 'Suvla', 'Bonaccorsi', 'Claar', 'Drew', 'La Vierge', 'Snoqualmie', 'Landmark', 'William Harrison', 'Structure', 'Bodega Volcanes de Chile', 'Castillo De Feliciana', 'Bruno Paillard', 'Masseria del Feudo Grottarossa', 'Lapostolle', 'Cantine di Marzo', 'Contrada Michele', 'Domaine Lignères', 'Espiritu de Chile', 'Highlands', 'Baigorri', 'Crux', 'Proidl', 'Sanguis', 'Wellington', 'Yeringberg', 'Paul Reitz', 'Eduardo Garrido García', 'Thema', 'Honeywood Winery', 'Shannon Ridge', 'Château Monbousquet', 'Viña Tarapacá', 'Errazuriz', 'Castelfeder', 'Dalton', 'Cuda Ridge Wines', 'White Hart Wine', 'Château Pey la Tour', 'Real Sitio de Ventosilla', 'Pratsch', 'Domaine des Cognettes', 'Vieil Armand', 'Mantra', 'Proelio', 'Cottanera', 'Steven Kent', 'Argiolas', 'Robertson Winery', 'Giovanni Rosso', 'Kakhetia Traditional Winemaking', 'Jean-Marc Burgaud', 'Lisini', 'Celli', 'Commanderie de la Bargemone', 'Truchard', 'Château de Fonbel', 'Cantine Leonardo Da Vinci', 'Racchus', 'Bunchgrass', 'Yohan Lardy', 'Buglioni', 'Lambardi', 'Château la Croix de Roche', 'Willowbrook', 'Villa Wolf', 'Doren', 'Casa Santos Lima', 'Drei Donà Tenuta La Palazza', 'Lagarde', 'Kangarilla Road', 'Domaine Matthias et Emile Roblin', 'Leaping Lizard', 'Château du Retout', 'Caruso & Minini', 'Château Malescasse', 'Vinum Cellars', 'Forgeron', 'TerrAmore', 'Koenig Vineyards', 'Mullineux', 'Two Moons', \"Château de l'Aubrade\", 'Francis Ford Coppola', 'Lagana', 'Fattoria La Lecciaia', 'Herdade Grande', 'AntoLin Cellars', 'Torres', 'Campellares', 'Payana', 'Markus Huber', 'Casa Emma', 'Bouza de Carril', 'W.H. Smith', 'Pietradolce', 'Vriesenhof', 'Dancing Bull', 'O•S Winery', 'Agricola Pugliano', 'Abbazia Santa Anastasia', 'Le Mas de Bertrand', 'Humberto Canale', 'Rochioli', 'Felten Cellars', 'Toad Hollow', 'Eleanor', 'Sebastiani', 'Livio Felluga', 'Balboa', 'Prime', 'Cantina Santadi', 'Rigg Estate Vineyards', 'Summers', 'Le Cadeau', 'Wild Hogge', 'Central Coast Group Project', 'Drylands', 'Les Villages de Terroir Catalan', 'Pieve Santo Stefano', 'Toffoli', 'Eguren', 'Estate Constantin Gofas', 'Salcis', 'St. Christopher', 'Dr. H. Thanisch (Erben Thanisch)', 'Bernat', 'Cascina Adelaide', 'Willamette Valley Vineyards', 'Zinke', 'Simonnet-Febvre', 'Milijan Jelić', 'Pisoni', 'Umathum', 'West of Temperance', 'Korbel', 'Dashwood', 'Quartz Reef', 'Castellare di Castellina', 'Wine Man', 'Vignobles Garrigae', 'Scott Harvey', 'Amity', 'Adriano Marco & Vittorio', 'Bodegas Carballal', 'Jose Maria Vieira', 'Harrington', 'Artesa', 'Allegrini', 'Ehret', 'Boudreaux Cellars', 'Ste. Chapelle', 'Newsome-Harlow', 'Les Belles Collines', 'Santa Alicia', 'Rex Hill', 'William Cole', 'Paratus', 'Sean Minor', 'Dominio de Tares', 'Aguirre', 'Villa Cordevigo', 'Betwixt', 'Now Presenting...', 'Quinta da Lagoalva de Cima', 'Punset', 'Longboard', 'Prospect 772', 'Pax', 'Hesperian', 'Backsberg', 'Bella Grace', 'Le Ragose', 'Borgo di Colloredo', 'Antoine Moltès & Fils', 'Roar', 'Dante Rivetti', 'Allram', 'Summerwood', 'Frankland Estate', 'Ochagavia', 'Januik', 'Damiani', 'Hundred Acre', 'Domenico Cavazza', 'Friedrich Becker', 'Fattoria di Montecchio', \"Il Feuduccio Di S. Maria D'Orni\", 'Château au Pont de Guitres', 'Jean-Marie Challand', '181', 'Tenuta Arnulfo', 'Loma Larga', 'Vignerons de Bel Air', 'Spy Valley', 'Magnum Vinhos', 'Dutton-Goldfield', 'EdenVale', 'Villa Rinaldi', 'Pepper Bridge', 'Manzoni', 'Nicky Versfeld', 'Galaxy', 'Ixsir', 'Spring Mountain Vineyard', 'Patz & Hall', 'Siduri', 'Felix Solis', 'Kitá', 'Wyncroft', \"Murrieta's Well\", 'Enanzo', 'Saint Clair', 'Petroni', 'Andeluna', 'Magnolia Court', 'Apriori', 'Caves Aliança', 'La Cappuccina', 'Riverbench', 'Giacomo Ascheri', 'Andis', 'Kilikanoon', 'Robert Biale', 'La Rajade', 'Milbrandt', 'Koyle', 'Casa Larga', 'Mas de Cadenet', 'Whitecliff Vineyard', 'Domaines Schlumberger', 'Jeaunaux-Robin', 'Verbena', 'Banshee Wines', 'Ornellaia', 'Genoa', 'Lone Birch', 'Ocelli', 'Campos Góticos', \"Grimm's Bluff\", 'Bonterra', 'Boekenhoutskloof', 'Domaine de Beauregard', 'Truett Hurst', 'Bertrand Ambroise', 'Domenico Fraccaroli', 'Zymè', 'Forstreiter', 'Helix by Reininger', 'Quinta de Porrais', 'Renteria', 'Balduzzi', 'Elki', 'Martin Ray', 'Pech Merle', 'Luigi Bosca', 'Bouchard Aîné & Fils', 'Pazo Torrado', 'Tagaris', 'Silvan Ridge', 'San Simeon', 'Bortolomiol', 'Dominio de la Vega', 'Sauvion', 'Meurgey-Croses', 'Eric Kent', 'Sawyer', 'Louis Bernard', 'Jean Albrecht', 'Bernardus', 'Guicciardini Strozzi', 'Santi', \"Ca' dei Zago\", 'Máté', 'Korta', 'Lusco', 'Schloss Gobelsburg', 'Oremus', 'Hannah Nicole Vineyards', 'Zull', 'Fable Mountain', 'Andean Sky', 'Felsner', 'José Maria da Fonseca', 'Château Mougneaux', 'Maison Nicolas', 'Lingenfelder', 'Nada Fiorenzo', 'Château Montlanderie', 'Can Blau', 'Buty', 'Pagos del Rey', 'Signé Vigneron', 'Cave de Viré', 'Kendall-Jackson', 'André Brunel', 'Greenwood Ridge', 'Trenel Fils', 'Château Haut-Goujon', 'Ormonde', 'Maimai', 'Wairau River', 'Château les Lattes', 'De Stefani', 'Carlisle', 'Hyland', 'Grafen Neipperg', 'Dunham', 'Pardon et Fils', 'Château le Sartre', 'Bisol', 'La Poderina', 'Tarara', 'Manuel Olivier', 'Folonari', 'Emerson', 'Santa Ema', 'Fitz-Ritter', 'Nigl', 'Ramos-Pinto', 'Curto Marco', 'Henri de Villamont', 'Pasaje Alto', 'Il Poggione', 'Renato Keber', 'Dürnberg', 'De Martino', 'Blue Rock', 'Schloss Vollrads', 'Cambridge & Sunset', 'Latium di Morini', 'Il Grillesino', 'La Chiripada', 'Murphy-Goode', 'Château Couhins-Lurton', 'Soellner', 'Kono', 'Château de Crézancy', 'Antiyal', 'Domaine Michel Bouzereau', 'Fattoria dei Barbi', 'Centolani', \"Presqu'ile\", 'Montalbera', 'Viña San Vicente', 'Zina Hyde Cunningham', 'Domaine Pignier', 'Ty Caton', 'Château Pierre-Bise', 'Dancing Derby', 'Château de Belcier', 'Vega de la Reina', 'Florent Descombe', 'Leyda', 'Santa Carolina', 'Villadoria', 'Failla', 'Finn Hill', 'Scaranto', 'Casa Montes', 'Sur de los Andes', 'The Eyrie Vineyards', 'Leeuwin Estate', 'Six Degrees', 'Benziger', 'Williamson Wines', 'Marsiliana', 'Domaine Rotier', 'Marimar Estate', 'Château Vrai Caillou', 'Skyfall', 'Willm', 'Anam Cara', 'Star Angel by Montes', 'Vignobles Jeanjean', 'James Family Cellars', 'Alentex', 'Château Mille-Roses', 'Castoro Cellars', 'Domaine des Comtes Lafon', 'Edna Valley Vineyard', 'V&N; Cellars', 'Lafou', 'Jacopo Biondi-Santi', 'Bearboat', 'Château Lamothe-Cissac', 'Château Côte Montpezat', 'Vinemark', 'Dona Maria-Júlio Bastos', 'Goldschmidt', 'Dosio', 'Masciarelli', 'Tenuta San Giorgio', 'Domaine de Mirail', 'Happy Camper', 'Roger Lassarat', 'Wild Thing', 'Solar de Urbezo', 'Woodenhead', 'Tamarack Cellars', 'I Clivi', 'Podere Ruggeri Corsini', 'Alente', 'Soléna', 'Conti Costanti', 'Château Tour de Lagarde', 'Kindred', 'Luigi Righetti', 'Château Beausejour-Duffau-Lagarrosse', 'Chakana', 'Guardian Peak', 'Torre Quarto', 'Cantina della Volta', 'Red Mud', 'Righteous', 'La Scolca', 'Château Palmer', 'Cape View', 'Vega Sindoa', 'Tin Barn', 'Finca Allende', 'Finca la Celia', 'Marrenon', 'Russiz Superiore', 'Lallier', 'Il Poggiolo E. Cosimi', 'Poggio Nardone', 'Nicolis', 'Romanelli', 'Laurent Gauthier', 'Mud House', 'Domaine René Bouvier', 'Curto', 'Argento', 'Hansen Cellars', 'Falcor', 'Weisinger', 'Black Star Farms', 'Fattoria di Montemaggio', 'Spier', 'Le Casalte', 'un4seen', 'Château Haut Nadeau', 'Miro', 'Muddy Boot', 'Owl Ridge', 'Caliterra', 'J. & F. Lurton', 'Kings Mountain', 'Gordon Brothers', 'Wines & Winemakers', 'Stryker Sonoma', 'Grizzly Peak', 'Domaine du Haut-Poncié', 'Château Haut-Bergey', 'Georges Vigouroux', 'Château Balac', 'Damien et Romain Bouchard', 'Michel & Stéphane Ogier', 'Vignerons de Buxy', \"Corte Sant' Alda\", 'Glatzer', 'Donelan', 'Pey-Marin', 'Flying Goat Cellars', 'Caracol Serrano', 'Matchbook', 'Yorkville Cellars', 'Château de Pizay', 'Château de Bel', 'Pascual Toso', 'Valderiz', 'Brimstone', 'Caves Transmontanas', 'Château Beauvillage', 'Terre de Trinci', 'Valserrano', 'Domaine Jacques Prieur', 'Tenute Soletta', 'Savage Grace', 'Kynsi', 'Ponchione Maurizio', 'Villa Poggio Salvi', 'Disruption', 'Domaine Anderson', 'Alias', 'Gård', 'Santa Barbara Winery', 'Stroppiana', 'Roth', 'Viña Casablanca', 'La Chapelle de Potensac', 'FEL', 'Anton Bauer', 'Twomey', 'Ego Bodegas', 'Rubissow', 'Bernhard Huber', 'Le Vigne', 'Château Kirwan', 'Rutini', 'Clos de Nit', 'Quilceda Creek', 'Ricominciare', 'Château Cos Labory', 'Kerloo', 'Boude Baudin', 'Duménil', 'Array', 'Domaine des Baumard', 'Gersing', 'Tarapaca', 'Saint André de Figuière', 'Château Gréteau Médeville', 'Bacio della Luna', 'Château Bourgneuf-Vayron', 'Ten Sisters', 'Resonata', 'Mulini di Segalari', 'Cannonball', 'Tomero', 'Dinastía Vivanco', 'The Four Graces', 'Bodegas San Prudencio', 'Rôtie Cellars', 'Miguel Torres', 'Château Moncontour', 'Bodegas Riojanas', 'Peconic Bay Winery', 'Seghesio', 'Tolosa', 'Girardet', 'Coast', 'Château de Gaudou', 'Maryhill', 'Santos & Seixo', 'Eagle Ridge', 'Alta Colina', 'Stone The Crows', 'Château Preuillac', 'Schug', 'Prejean', 'Daniel Barraud', 'Le Senate', 'Jones of Washington', 'Rudi Pichler', 'Ponzi', 'Miraflores', 'Di Lenardo', 'Artesana', 'Château Lieujean', 'Château Lynch-Moussas', 'Di Filippo', 'Callaway', 'Volpe Pasini', 'Domaine Jeannin-Naltet', 'Viña Chocalan', 'Roland Champion', 'Cantina Produttori Bolzano S. Maddalena/Gries', 'Larkspur', 'Three Fox', 'Château Mont-Pérat', 'Château Frank', 'Pura 8', 'González Byass', 'Okapi', 'Domaine Pellé', 'Jean-Marc Brocard', 'Paternoster', 'Château Vignelaure', 'Byzantium', 'Cameron Hughes', 'Tenuta Peter Sölva & Söhne', 'Beltane Ranch', 'Gorka Izagirre', 'Klinker Brick', 'Leonetti Cellar', 'McGrail', 'Airfield Estates', 'The Conqueror', 'Apaltagua', 'Bodega Calle', 'Bellenda', \"Stags' Leap Winery\", 'Y Rousseau', 'Mittnacht Frères', 'Verum', 'Château Belrose', 'Ronco dei Tassi', 'Château Doms', 'Ortman Family', 'Billecart-Salmon', 'Miloš', 'JM Cellars', 'Georg Mosbacher', 'Burrowing Owl', 'Rickshaw', 'Chasing Venus', 'Meeker', 'Santa Rita', 'Brutocao', 'Sipp Mack', 'Bodegas Palacio', 'Ott & Murphy', 'Château Nozières', 'Marietta Cellars', 'Casa Silva', 'Bortoluzzi', 'Lamborghini', 'Adamant Cellars', 'Mauro', 'Casa di Grazia', 'Château de Malle', 'Donna Olimpia 1898', 'Lavradores de Feitoria', 'Carabella', 'Saintsbury', 'Leese-Fitch', 'Mt. Konocti Winery', 'Biondi', 'Beresford', \"C'est Bon\", 'Luberri', 'Alta Alella', 'Arauco', 'Quinta dos Avidagos', 'Coteaux da Murta', 'Sant Eurosia', 'Benton-Lane', 'Chime', 'Kim Crawford', 'Ancient Oak Cellars', 'Inama', 'Schmitt Söhne', 'Oldenburg', 'Zocker', 'Thurston Wolfe', 'Piot-Sévillano', 'Le Casque', 'Kontos', 'Biecher & Schaal', 'Poggio di Sotto', 'Querciabella', 'Monchiero', 'Charles Smith', 'Codorníu', 'Lynmar', 'Borra', \"McWilliam's Hanwood Estate\", 'Barton & Guestier', 'Cara Mia', 'Provence Rosé', 'Saxon Brown', 'Gebeshuber', 'Alto Moncayo', 'Merryvale', 'Foretell', 'Vitis Terrarum', 'Domaine de la Bastide Blanche', 'Château Magondeau', 'Michael Pozzan', 'Covey Run', 'Straccali', 'Francis Coppola', 'Morgante', 'Gustafson Family', 'Argiano', 'Domaine Sarragousse', 'Lealtanza', 'Masseria Felicia', 'Boizel', 'Sequana', 'Montes', 'Lechthaler', 'One Iron', 'Konrad', 'Conti Formentini', 'Peter Paul Wines', 'Delheim', 'Godspeed', 'Luis Duarte', 'Château Peyredon Lagravette', 'Pearmund', 'Montebuena', 'Pazo Serantellos', 'Domaine Bernard Fleuriet et Fils', 'Ribafreixo', 'Challen', 'Feudi di San Gregorio', 'Owen Roe', 'Château Suduiraut', 'McFadden', 'Vigna di Pettineo', 'Tenuta Rapitalà', 'Septima', 'Pierre Sparr', 'Aymara', 'Produttori del Barbaresco', 'Tolaini', 'Lang & Reed', 'Zudugarai', 'Burgo Viejo', 'Château Haut Bessac', 'Kiona', 'Noble Vines', 'Haraszthy', 'Montaudon', 'Guido Porro', 'Domaine Collotte', \"Stephen's\", 'Michel Gassier', 'Eresma', 'Château Barreyre', 'Fog Crest', 'Château La Nerthe', 'Biutiful', 'Château Olivier', 'Molliver Vineyards', 'Sanctuary', 'Gruber Röschitz', 'Domaine Campu Vecchiu', 'Melrose', 'Paoletti', 'Casa Anadia', 'Substance', 'Wakefield', \"Otto's Constant Dream\", 'Delaire Graff', 'Tarantas', 'Donati', 'Dominio de Eguren', 'Amalie Robert', 'Alloro', 'Château de France', 'Trefethen', 'Domaines Barons de Rothschild (Lafite)', 'Torbreck', '3Fools', 'Dubl', 'Damilano', 'Cascina Bruciata', 'W.T. Vintners', 'SuLei', 'Three Fires', 'Palacio de Fefiñanes', 'Collosorbo', 'Bulletin Place', 'Wolff', 'Sesti', 'Daou', 'Naggiar', 'Avant', 'Laetitia', 'Lemelson', 'Alto Cinco', 'Alder Springs', 'Chamisal Vineyards', 'King Estate', 'Yardstick', 'Mounts', 'Funky Llama', 'Fattoria Alois', 'Domaines Vinsmoselle', 'Famille Perrin', 'Anakena', 'Tres Palacios', 'Louis Jadot', 'Marqués de Vizhoja', 'Falcone', 'Bindella', 'Astorre Noti', 'Coelho', 'RN Estate', \"Domaine l'Ancienne Cure\", 'Ransom', 'Graci', 'Tardieu-Laurent', 'Fournier Père et Fils', 'Domaine de Cause', 'Poggio Argentiera', 'Ferrocinto', 'Alphonse Mellot', 'B.R. Cohn', 'Weixelbaum', 'Fratelli Alessandria', 'Zotovich Cellars', 'Stewart', 'Purple Heart Wines', 'Tedeschi', 'Domaine Specht', 'Brilliant Mistake', 'Rabino', 'Arbor Crest', 'Señorío de Caleruega', 'Insania', 'Terrapura', 'Covila', 'Pittacum', 'Barefoot Bubbly', 'WillaKenzie Estate', 'Walnut City WineWorks', 'Cave de Bissey', 'Bench', 'The White Knight', 'Caldwell', 'Pace', 'Tamber Bey', 'I Giusti e Zanza', 'Yellow Tail', 'Derbes', 'Bodegas Landaluce', 'Finca Constancia', 'Brezza', 'TeHo', 'Poggio Scalette', 'Capanna', 'Va Piano', 'Familia Schroeder', 'Hauner', 'Emiliana', 'Buttonwood', 'Citille di Sopra', 'William Church', 'Davino', 'Robert Weil', 'Figaro', 'Beaver Creek', 'Collection 35', 'Château la Fleur-Pétrus', 'Turkey Flat', 'Solar de Pinheiro', 'Seresin', 'Lamborn Family Vineyards', 'Woodinville Wine Cellars', 'Cantina Fratelli Pardi', 'Dominican Oaks', 'La Vis', 'Eighty Four', 'Baracchi Riccardo', 'On Point', 'Corliss Estates', 'Whiplash', \"Stag's Leap Wine Cellars\", 'Árido', 'Cooperativa Reguengos de Monsaraz', 'Nicora', 'Leonard Oakes', 'Quiévremont', 'Boffa', 'Ronco del Gelso', 'Jardin', 'Medlock Ames', 'Bodega de Edgar', 'Domaine Michel Goubard', \"Val d'Oca\", 'Dark Horse', 'Pertinace', 'Columbia Crest', 'Domaine Beausejour', 'Château Ségonzac', 'Godwin', 'Trust', 'Roche', 'Villa S. Anna', 'Don Cristobal 1492', 'Ramón Bilbao', 'Castello di Verrazzano', 'Santa Julia', 'Viña Cobos', 'Château Dupeyrat Plouget', 'Rui Roboredo Madeira', 'Sierra Starr', 'LaVelle', 'Château Blaignan', 'Le Brun de Neuville', 'Jasci & Marchesani', 'Schild Estate', 'Screen Door Cellars', 'Matarromera', 'Finca del Marquesado', 'Château Anniche', 'J. Scott Cellars', 'Betz Family', 'Bergevin Lane', 'Jayson', 'Nino Negri', 'Señorio de Uñuela', 'Castle', 'Cascina La Ghersa', 'Sevtap', 'Piccini', 'Casa Agricola Santos Jorge', 'Bodega Norton', 'Purlieu', 'Pazzo', 'Monchiero Carbone', 'Robert Foley', 'Conde de Velázquez', 'Paul Jaboulet Aîné', 'Lutum', 'De Loach', 'Lucien Albrecht', 'Opolo', 'Wagner', 'Brampton', 'La Folia Winery', 'Il Mosnel', 'Jansz', 'Tenuta Argentiera', 'Drumheller', 'Kestrel', 'Clos Figueras', 'Domaine Pascal et Mireille Renaud', 'Avignonesi', 'Castello Montaúto', 'Parras Wines', 'Geretto', 'Angulo Innocenti', 'Haak', 'Illuminati Dino', 'Tolloy', 'Griesbauerhof', 'Rideau', 'South Stage', 'Quinta do Cavalinho', 'Muxagat', 'Paul Hobbs', 'Aquinas', 'Comm. G. B. Burlotto', 'Ben Haines', 'Dumas Station', 'Jean-Max Roger', 'Parras Vinhos', 'Etude', 'Quinta do Sagrado', 'Château Lafleur-Gazin', 'Daedalus Cellars', 'Undurraga', 'Sheldon', 'Alexandria Nicole', 'Bodegas Ribón', 'Château Lary', 'Kunza', 'Ascheri', 'Lost River', 'Cantina del Giusto', 'Full Pull & Friends', 'Soquel Vineyards', 'Domaine Bousquet', 'Château Haut-Logat', 'Benessere', 'Maison Stéphane Brocard', 'Banear', 'Stephanie', 'Schmidt', 'Giacomo Conterno', 'Morro Bay', 'Mansard', 'Torrevento', 'Domaine André Colonge', 'La Croix de Renaud', 'Rutherford Ranch', 'Peloton', 'Two Vines', 'Viader', 'Château de la Terrière', 'Lassègue', 'Riboli', 'Giovanna Madonia', 'Reina de Castilla', 'Renwood', 'Stoneleigh', 'Alamos', 'Wild Meadows', 'Bel Colle', 'Nine Hats', 'Gibbs', 'Charles Ellner', 'Kumeu River', 'Estancia', 'Castello di Neive', 'Château le Pey', 'Brandlin', 'Mirassou', 'Rock Hollow', 'Castle Rock', 'Bellavista', 'Cadaretta', 'Martin & Weyrich', 'Cortes de Cima', 'Cantina del Castello', 'Gemtree', 'Alain Jaume et Fils', 'Sanguinhal', 'Aleo', 'Ram', 'Richard Böcking', 'Genium Celler', 'Isole e Olena', 'Koz', 'Sottano', 'Château Barde Haut', 'Howell Mountain Vineyards', 'Mark Ryan', 'Mount Veeder', 'Rainoldi', 'Cathedral Ridge', 'Château les Joyeuses', 'Bacalhôa Wines of Portugal', 'Ignacio Marín', 'Evening Land', 'Château des Annereaux', \"Valle dell'Acate\", 'Elena Walch', 'Sequoia Grove', 'Linaje Garsea', 'Mills Reef', 'Scheiblhofer', 'Frenzy', 'Biltmore Estate', \"Razor's Edge\", 'Fuchs', 'Chanoine', 'Demetria', 'Domaine Barmès-Buecher', 'Hall', 'Casa Rivas', 'Château la Vieille Cure', 'Wrath', 'San Cassiano', 'Château Siffle Merle', 'Domus Aurea', 'Tornatore', 'Christophe Cordier', 'Augusta Winery', 'Lasseter', 'Center of Effort', 'Stonehedge', 'Paladin', 'Alidis', 'Tongue Dancer', 'Albamar', 'Lone Madrone', \"Marita's Vineyard\", 'Lomas del Valle', 'My Big Fat Greek Wine', 'Pacific Ridge', 'Calicaro', 'Mauro Veglio', 'Domaine de Leyre-Loup', 'Le Carré', 'Hellbent', 'Valori', 'Claudia Springs', 'Château de Marsan', 'Canella', 'Cadence', 'I Luoghi', 'Calatrasi', 'Mosolo Gleni', 'Silverado', 'El Nido', 'Pondera', 'Cherry Hill', \"Domaine d'Escausses\", 'Babich', 'Cowhorn', 'Woolundry Rd', 'Melhill', 'Sundance', 'The Grapes of Roth', 'Caves Velhas', 'Black Kite', 'Oyster Bay', 'MICA Cellars', 'Spicy Vines', 'Vesevo', 'Poggiobello', 'Quarticello', 'Te Mata', 'Castello di Borghese', 'Château Saint-Pierre', 'Domaine des Chers', 'Casa da Passarella', \"Château l'Évangile\", 'MCV', \"Domaine de Val d'Arenc\", 'Lavender Ridge', 'J. Lohr', 'Maritávora', 'Morrison Lane', 'Baglio di Pianetto', 'Château de Parenchère', 'Bogle', 'Yatir', 'Château Troupian', 'Mariell', 'Four Degrees of Riesling', 'Quinta de Gomariz', 'Cartlidge & Browne', 'Patland', 'Schloss Johannisberger', 'Franciscan', 'Wölffer', 'Landhaus Mayer', 'Montevina', 'Oak Knoll', 'Giacomo Fenocchio', 'Château la Gravette Lacombe', 'Strathewen Hills', 'Maison Bouey', 'Dei', 'Tenuta Luisa', 'McGregor', 'Cedar Creek', 'Girolamo Dorigo', 'Parry Cellars', 'Colosi', ':Nota Bene', 'Las Casas de Vacquería', 'Rancho Sisquoc', 'Palari', 'Casa de Vilacetinho', 'La Chablisienne', 'Shea', 'Cornellana', 'ONX', 'Château Giscours', 'M by Michael Mondavi', 'Podere ai Valloni', 'Château Bastor-Lamontagne', 'Le Buche', 'Browne Family Vineyards', 'Chanson Père et Fils', 'Hiedler', 'Marchesi Antinori', 'Plaisance Ranch', 'Veuve Doussot', 'Bucklin', 'Dry Creek Vineyard', 'Vignobles 46N118', 'Zerba Cellars', 'Dion', 'Long Meadow Ranch', 'Tortoise Creek', 'Salis 1637', 'Château les Petits Arnauds', 'Lucas Vineyards', 'Cliff Creek', 'Marchesi Fumanelli', 'Parkers Estate', 'Feudo Antico', 'Casas del Bosque', \"D'Aione\", 'Wolf Blass', 'Finca El Origen', 'Flor De Campo', 'Peter Franus', 'Vintage Cowboy', 'Domaine de Thulon', 'Costa Archi', 'Limerick Lane', 'Villa al Cortile', 'Juris', 'Friedeman', 'Cantina del Nebbiolo', 'Finca Salazar', 'St. Amant', 'Pablo del Villar', 'Wine Spots', 'St. Julian', 'Tres Sabores', 'Domaine Sophie Cinier', 'Heritage', 'Josef Schmid', 'Hess Select', 'Jacquart', 'Andrew Will', 'Ferré I Catasús', 'Spyro', 'Black Box', 'Renato Ratti', 'Gilbert Cellars', 'Adega Mãe', 'Soos Creek', 'The Williamsburg Winery', 'Mas de la Dame', 'Mantel Blanco', 'Four Vines', 'Tenuta di Riseccoli', 'Cave du Marmandais', 'Josef Chromy', 'Clos du Lac', 'Castello di Porcìa', 'Tua Rita', 'Tenuta di Vignole', 'Quinta da Alorna', 'Cantine Gulino', 'Vasse Felix', 'Reichsgraf von Kesselstatt', 'Loron et Fils', 'Avalon', 'Winzergenossenschaft Mayschoss-Altenahr', 'Poderi Luigi Einaudi', 'Príncipe de Viana', 'Sangervasio', 'Château Souverain', 'J. Bookwalter', 'Moncaro', 'Merk', 'Manzanita Creek', 'Quercia al Poggio', 'Terre Nere', 'Wilridge', 'Spann Vineyards', 'Tenuta Monteti', 'Campo di Sasso', 'Jekel', 'Château Troplong Mondot', 'Sobon Estate', 'Colle dei Venti', 'Maison Bleue', 'Dopff & Irion', 'Krutzler', 'Abbona Marziano', 'Monteverro', 'Tantara', 'Esser Cellars', 'Silver', 'Waterstone', 'Patient Cottat', 'Marqués de Murrieta', 'Freixenet', 'Aldegheri', 'Gerovassiliou', 'Mana', \"Judd's Hill\", 'Big Table Farm', 'Quinta de Serrade', 'Château de la Bouyère', 'Château de Corcelles', 'Dionigi', 'Adega Cooperativa do Cartaxo', 'Battle of Bosworth', 'Belle Ambiance', 'Black Ridge', 'Rizzi', 'Waipara Hills', 'Nugnes', 'Barrage Cellars', 'Eugenio Collavini', 'Tessa Marie', 'Foyt Family', 'Villa Andretti', 'Luis Cañas', 'Crossbarn by Paul Hobbs', 'Quinta do Vale Meão', 'Principe Pallavicini', 'Michel Torino', 'Corte alla Flora', 'Chalk Hill', 'Gancedo', 'Clos Puy Arnaud', 'Carmen', 'Quinta do Monte Xisto', 'Llopart', 'Pulenta Estate', 'Wittmann', 'Domaine Sigalas', 'Hill Family Estate', 'Château Lafon-Rochet', 'Dr. Konstantin Frank', 'J. Portugal Ramos', 'Mannucci Droandi', 'Domaine de la Sanglière', 'Pflüger', 'Covenant', 'Baehner Fournier', 'Adobe Road', 'Lyrarakis', 'CVA Canicattì', 'Joseph Carr', 'Work', 'Marqués de Vargas', 'Gramercy', \"Coeur d'Alene\", 'Domaine Berthoumieu', 'Frazier', 'Hawkins Cellars', 'Kennedy Shah', 'Meyer Family Cellars', 'Mustilli', 'Chappellet', 'Geh. Rat Dr. von Bassermann-Jordan', 'Lenné Estate', 'Thomas George', 'Bastgen', 'Arcane Cellars', 'Sands Point', 'Black Coyote', 'Vignamaggio', 'Château Gaudin', 'Avery Lane', 'Cavas Hill', 'Paradise Ridge', 'Alves de Sousa', 'Anciano', 'Fernwood', 'B Cellars', 'Las Colinas Del Ebro', 'Valdivieso', 'Quinta do Vallado', 'Valle de Salinas', 'River Road', 'Mont-Ferrant', 'Espaço Rural', 'Kingston Family', 'Boutari', 'Château Puy-Servain', \"Tasca d'Almerita\", 'Bravium', 'àMaurice', 'Lionel Osmin & Cie', 'Four Sisters Ranch', 'Amayna', 'St. Supéry', 'Viña Bisquertt', 'Mazzei', 'Novelty Hill', 'Domaine de la Terre Rouge', 'Principi di Spadafora', 'Domaine Poulleau Père et Fils', 'Zenith', 'James Wyatt', 'Novaia', 'J. Wilkes', 'Nada Giuseppe', 'Aresti', 'Fire Block', 'Réserve des Oliviers', 'Nickel & Nickel', 'Trivento', 'Quady North', 'Château Calissanne', 'Corteforte', 'Canneta', 'Great American Wine Company', 'Colutta', 'Treleaven', 'Vinosia', 'Elqui Wines', 'Steininger', 'Suhru'}\n"
          ]
        }
      ]
    },
    {
      "cell_type": "code",
      "metadata": {
        "id": "X5f_156MGmy3"
      },
      "source": [
        "#replace the strings with its numeric representation\n",
        "new_df['country']=list_country\n",
        "new_df['region_1']=list_region\n",
        "new_df['variety']=list_variety\n",
        "new_df['winery']=list_winery"
      ],
      "execution_count": 103,
      "outputs": []
    },
    {
      "cell_type": "code",
      "metadata": {
        "colab": {
          "base_uri": "https://localhost:8080/",
          "height": 206
        },
        "id": "2DX3BwyvGwWW",
        "outputId": "e35f47c6-7e71-4eea-b2a2-e44f76b105ff"
      },
      "source": [
        "new_df.head()"
      ],
      "execution_count": 104,
      "outputs": [
        {
          "output_type": "execute_result",
          "data": {
            "text/html": [
              "<div>\n",
              "<style scoped>\n",
              "    .dataframe tbody tr th:only-of-type {\n",
              "        vertical-align: middle;\n",
              "    }\n",
              "\n",
              "    .dataframe tbody tr th {\n",
              "        vertical-align: top;\n",
              "    }\n",
              "\n",
              "    .dataframe thead th {\n",
              "        text-align: right;\n",
              "    }\n",
              "</style>\n",
              "<table border=\"1\" class=\"dataframe\">\n",
              "  <thead>\n",
              "    <tr style=\"text-align: right;\">\n",
              "      <th></th>\n",
              "      <th>Unnamed: 0</th>\n",
              "      <th>country</th>\n",
              "      <th>designation</th>\n",
              "      <th>points</th>\n",
              "      <th>price</th>\n",
              "      <th>region_1</th>\n",
              "      <th>variety</th>\n",
              "      <th>winery</th>\n",
              "    </tr>\n",
              "  </thead>\n",
              "  <tbody>\n",
              "    <tr>\n",
              "      <th>0</th>\n",
              "      <td>0</td>\n",
              "      <td>12</td>\n",
              "      <td>Vulkà Bianco</td>\n",
              "      <td>87.0</td>\n",
              "      <td>NaN</td>\n",
              "      <td>406</td>\n",
              "      <td>209</td>\n",
              "      <td>684</td>\n",
              "    </tr>\n",
              "    <tr>\n",
              "      <th>1</th>\n",
              "      <td>1</td>\n",
              "      <td>1</td>\n",
              "      <td>Avidagos</td>\n",
              "      <td>87.0</td>\n",
              "      <td>15.0</td>\n",
              "      <td>0</td>\n",
              "      <td>24</td>\n",
              "      <td>2793</td>\n",
              "    </tr>\n",
              "    <tr>\n",
              "      <th>2</th>\n",
              "      <td>2</td>\n",
              "      <td>13</td>\n",
              "      <td>NaN</td>\n",
              "      <td>87.0</td>\n",
              "      <td>14.0</td>\n",
              "      <td>340</td>\n",
              "      <td>106</td>\n",
              "      <td>1829</td>\n",
              "    </tr>\n",
              "    <tr>\n",
              "      <th>3</th>\n",
              "      <td>3</td>\n",
              "      <td>13</td>\n",
              "      <td>Reserve Late Harvest</td>\n",
              "      <td>87.0</td>\n",
              "      <td>13.0</td>\n",
              "      <td>553</td>\n",
              "      <td>115</td>\n",
              "      <td>3338</td>\n",
              "    </tr>\n",
              "    <tr>\n",
              "      <th>4</th>\n",
              "      <td>4</td>\n",
              "      <td>13</td>\n",
              "      <td>Vintner's Reserve Wild Child Block</td>\n",
              "      <td>87.0</td>\n",
              "      <td>65.0</td>\n",
              "      <td>340</td>\n",
              "      <td>70</td>\n",
              "      <td>907</td>\n",
              "    </tr>\n",
              "  </tbody>\n",
              "</table>\n",
              "</div>"
            ],
            "text/plain": [
              "   Unnamed: 0  country  ... variety  winery\n",
              "0           0       12  ...     209     684\n",
              "1           1        1  ...      24    2793\n",
              "2           2       13  ...     106    1829\n",
              "3           3       13  ...     115    3338\n",
              "4           4       13  ...      70     907\n",
              "\n",
              "[5 rows x 8 columns]"
            ]
          },
          "metadata": {},
          "execution_count": 104
        }
      ]
    },
    {
      "cell_type": "markdown",
      "metadata": {
        "id": "VA7rbbaYwagK"
      },
      "source": [
        "##5.Fill missing values in price with mean and in points with median"
      ]
    },
    {
      "cell_type": "code",
      "metadata": {
        "colab": {
          "base_uri": "https://localhost:8080/",
          "height": 1000
        },
        "id": "TdYxx7IJI-N8",
        "outputId": "69e848df-9a1d-4d57-db8e-8a1f7e529937"
      },
      "source": [
        "df.sort_values(by='price',na_position='first',ascending=True)#cheching the occurance of nan by sorting"
      ],
      "execution_count": null,
      "outputs": [
        {
          "output_type": "execute_result",
          "data": {
            "text/html": [
              "<div>\n",
              "<style scoped>\n",
              "    .dataframe tbody tr th:only-of-type {\n",
              "        vertical-align: middle;\n",
              "    }\n",
              "\n",
              "    .dataframe tbody tr th {\n",
              "        vertical-align: top;\n",
              "    }\n",
              "\n",
              "    .dataframe thead th {\n",
              "        text-align: right;\n",
              "    }\n",
              "</style>\n",
              "<table border=\"1\" class=\"dataframe\">\n",
              "  <thead>\n",
              "    <tr style=\"text-align: right;\">\n",
              "      <th></th>\n",
              "      <th>Unnamed: 0</th>\n",
              "      <th>country</th>\n",
              "      <th>description</th>\n",
              "      <th>designation</th>\n",
              "      <th>points</th>\n",
              "      <th>price</th>\n",
              "      <th>province</th>\n",
              "      <th>region_1</th>\n",
              "      <th>region_2</th>\n",
              "      <th>taster_name</th>\n",
              "      <th>taster_twitter_handle</th>\n",
              "      <th>title</th>\n",
              "      <th>variety</th>\n",
              "      <th>winery</th>\n",
              "    </tr>\n",
              "  </thead>\n",
              "  <tbody>\n",
              "    <tr>\n",
              "      <th>0</th>\n",
              "      <td>0</td>\n",
              "      <td>Italy</td>\n",
              "      <td>Aromas include tropical fruit, broom, brimston...</td>\n",
              "      <td>Vulkà Bianco</td>\n",
              "      <td>87.0</td>\n",
              "      <td>NaN</td>\n",
              "      <td>Sicily &amp; Sardinia</td>\n",
              "      <td>Etna</td>\n",
              "      <td>NaN</td>\n",
              "      <td>Kerin O’Keefe</td>\n",
              "      <td>@kerinokeefe</td>\n",
              "      <td>Nicosia 2013 Vulkà Bianco  (Etna)</td>\n",
              "      <td>White Blend</td>\n",
              "      <td>Nicosia</td>\n",
              "    </tr>\n",
              "    <tr>\n",
              "      <th>13</th>\n",
              "      <td>13</td>\n",
              "      <td>Italy</td>\n",
              "      <td>This is dominated by oak and oak-driven aromas...</td>\n",
              "      <td>Rosso</td>\n",
              "      <td>87.0</td>\n",
              "      <td>NaN</td>\n",
              "      <td>Sicily &amp; Sardinia</td>\n",
              "      <td>Etna</td>\n",
              "      <td>NaN</td>\n",
              "      <td>Kerin O’Keefe</td>\n",
              "      <td>@kerinokeefe</td>\n",
              "      <td>Masseria Setteporte 2012 Rosso  (Etna)</td>\n",
              "      <td>Nerello Mascalese</td>\n",
              "      <td>Masseria Setteporte</td>\n",
              "    </tr>\n",
              "    <tr>\n",
              "      <th>30</th>\n",
              "      <td>30</td>\n",
              "      <td>France</td>\n",
              "      <td>Red cherry fruit comes laced with light tannin...</td>\n",
              "      <td>Nouveau</td>\n",
              "      <td>86.0</td>\n",
              "      <td>NaN</td>\n",
              "      <td>Beaujolais</td>\n",
              "      <td>Beaujolais-Villages</td>\n",
              "      <td>NaN</td>\n",
              "      <td>Roger Voss</td>\n",
              "      <td>@vossroger</td>\n",
              "      <td>Domaine de la Madone 2012 Nouveau  (Beaujolais...</td>\n",
              "      <td>Gamay</td>\n",
              "      <td>Domaine de la Madone</td>\n",
              "    </tr>\n",
              "    <tr>\n",
              "      <th>31</th>\n",
              "      <td>31</td>\n",
              "      <td>Italy</td>\n",
              "      <td>Merlot and Nero d'Avola form the base for this...</td>\n",
              "      <td>Calanìca Nero d'Avola-Merlot</td>\n",
              "      <td>86.0</td>\n",
              "      <td>NaN</td>\n",
              "      <td>Sicily &amp; Sardinia</td>\n",
              "      <td>Sicilia</td>\n",
              "      <td>NaN</td>\n",
              "      <td>NaN</td>\n",
              "      <td>NaN</td>\n",
              "      <td>Duca di Salaparuta 2010 Calanìca Nero d'Avola-...</td>\n",
              "      <td>Red Blend</td>\n",
              "      <td>Duca di Salaparuta</td>\n",
              "    </tr>\n",
              "    <tr>\n",
              "      <th>32</th>\n",
              "      <td>32</td>\n",
              "      <td>Italy</td>\n",
              "      <td>Part of the extended Calanìca series, this Gri...</td>\n",
              "      <td>Calanìca Grillo-Viognier</td>\n",
              "      <td>86.0</td>\n",
              "      <td>NaN</td>\n",
              "      <td>Sicily &amp; Sardinia</td>\n",
              "      <td>Sicilia</td>\n",
              "      <td>NaN</td>\n",
              "      <td>NaN</td>\n",
              "      <td>NaN</td>\n",
              "      <td>Duca di Salaparuta 2011 Calanìca Grillo-Viogni...</td>\n",
              "      <td>White Blend</td>\n",
              "      <td>Duca di Salaparuta</td>\n",
              "    </tr>\n",
              "    <tr>\n",
              "      <th>...</th>\n",
              "      <td>...</td>\n",
              "      <td>...</td>\n",
              "      <td>...</td>\n",
              "      <td>...</td>\n",
              "      <td>...</td>\n",
              "      <td>...</td>\n",
              "      <td>...</td>\n",
              "      <td>...</td>\n",
              "      <td>...</td>\n",
              "      <td>...</td>\n",
              "      <td>...</td>\n",
              "      <td>...</td>\n",
              "      <td>...</td>\n",
              "      <td>...</td>\n",
              "    </tr>\n",
              "    <tr>\n",
              "      <th>347</th>\n",
              "      <td>347</td>\n",
              "      <td>Germany</td>\n",
              "      <td>Dusty, saffron-spiced earthiness is juxtaposed...</td>\n",
              "      <td>Kiedrich Gräfenberg Trockenbeerenauslese</td>\n",
              "      <td>97.0</td>\n",
              "      <td>775.0</td>\n",
              "      <td>Rheingau</td>\n",
              "      <td>NaN</td>\n",
              "      <td>NaN</td>\n",
              "      <td>Anna Lee C. Iijima</td>\n",
              "      <td>NaN</td>\n",
              "      <td>Robert Weil 2014 Kiedrich Gräfenberg Trockenbe...</td>\n",
              "      <td>Riesling</td>\n",
              "      <td>Robert Weil</td>\n",
              "    </tr>\n",
              "    <tr>\n",
              "      <th>1566</th>\n",
              "      <td>1566</td>\n",
              "      <td>France</td>\n",
              "      <td>Such a generous and ripe wine, with a dark cor...</td>\n",
              "      <td>NaN</td>\n",
              "      <td>97.0</td>\n",
              "      <td>1100.0</td>\n",
              "      <td>Bordeaux</td>\n",
              "      <td>Pessac-Léognan</td>\n",
              "      <td>NaN</td>\n",
              "      <td>Roger Voss</td>\n",
              "      <td>@vossroger</td>\n",
              "      <td>Château La Mission Haut-Brion 2009  Pessac-Léo...</td>\n",
              "      <td>Bordeaux-style Red Blend</td>\n",
              "      <td>Château La Mission Haut-Brion</td>\n",
              "    </tr>\n",
              "    <tr>\n",
              "      <th>1571</th>\n",
              "      <td>1571</td>\n",
              "      <td>France</td>\n",
              "      <td>Solid, very structured, packed with dense and ...</td>\n",
              "      <td>NaN</td>\n",
              "      <td>96.0</td>\n",
              "      <td>1200.0</td>\n",
              "      <td>Bordeaux</td>\n",
              "      <td>Pessac-Léognan</td>\n",
              "      <td>NaN</td>\n",
              "      <td>Roger Voss</td>\n",
              "      <td>@vossroger</td>\n",
              "      <td>Château Haut-Brion 2009  Pessac-Léognan</td>\n",
              "      <td>Bordeaux-style Red Blend</td>\n",
              "      <td>Château Haut-Brion</td>\n",
              "    </tr>\n",
              "    <tr>\n",
              "      <th>1575</th>\n",
              "      <td>1575</td>\n",
              "      <td>France</td>\n",
              "      <td>The purest Cabernet Sauvignon fruit, with dark...</td>\n",
              "      <td>NaN</td>\n",
              "      <td>96.0</td>\n",
              "      <td>1300.0</td>\n",
              "      <td>Bordeaux</td>\n",
              "      <td>Pauillac</td>\n",
              "      <td>NaN</td>\n",
              "      <td>Roger Voss</td>\n",
              "      <td>@vossroger</td>\n",
              "      <td>Château Mouton Rothschild 2009  Pauillac</td>\n",
              "      <td>Bordeaux-style Red Blend</td>\n",
              "      <td>Château Mouton Rothschild</td>\n",
              "    </tr>\n",
              "    <tr>\n",
              "      <th>1558</th>\n",
              "      <td>1558</td>\n",
              "      <td>France</td>\n",
              "      <td>A massive wine for Margaux, packed with tannin...</td>\n",
              "      <td>NaN</td>\n",
              "      <td>98.0</td>\n",
              "      <td>1900.0</td>\n",
              "      <td>Bordeaux</td>\n",
              "      <td>Margaux</td>\n",
              "      <td>NaN</td>\n",
              "      <td>Roger Voss</td>\n",
              "      <td>@vossroger</td>\n",
              "      <td>Château Margaux 2009  Margaux</td>\n",
              "      <td>Bordeaux-style Red Blend</td>\n",
              "      <td>Château Margaux</td>\n",
              "    </tr>\n",
              "  </tbody>\n",
              "</table>\n",
              "<p>5251 rows × 14 columns</p>\n",
              "</div>"
            ],
            "text/plain": [
              "      Unnamed: 0  ...                         winery\n",
              "0              0  ...                        Nicosia\n",
              "13            13  ...            Masseria Setteporte\n",
              "30            30  ...           Domaine de la Madone\n",
              "31            31  ...             Duca di Salaparuta\n",
              "32            32  ...             Duca di Salaparuta\n",
              "...          ...  ...                            ...\n",
              "347          347  ...                    Robert Weil\n",
              "1566        1566  ...  Château La Mission Haut-Brion\n",
              "1571        1571  ...             Château Haut-Brion\n",
              "1575        1575  ...      Château Mouton Rothschild\n",
              "1558        1558  ...                Château Margaux\n",
              "\n",
              "[5251 rows x 14 columns]"
            ]
          },
          "metadata": {},
          "execution_count": 70
        }
      ]
    },
    {
      "cell_type": "code",
      "metadata": {
        "id": "ZbfigIAMI4eM",
        "colab": {
          "base_uri": "https://localhost:8080/"
        },
        "outputId": "eb0fe533-74cb-49d4-c8cf-9049578e9cf4"
      },
      "source": [
        "pr_mean=new_df['price'].mean()\n",
        "po_median=df['points'].median()\n",
        "print(f'the value of price col mean is: {str(pr_mean)}')\n",
        "print(f'the value of points col median is: {str(po_median)}')\n",
        "#this is the replace operations\n",
        "new_df['price'].replace(np.nan,pr_mean,inplace=True)\n",
        "new_df['points'].replace(np.nan,po_median,inplace=True)"
      ],
      "execution_count": 106,
      "outputs": [
        {
          "output_type": "stream",
          "name": "stdout",
          "text": [
            "the value of price col mean is: 35.03983656792646\n",
            "the value of points col median is: 88.0\n"
          ]
        }
      ]
    },
    {
      "cell_type": "code",
      "metadata": {
        "colab": {
          "base_uri": "https://localhost:8080/"
        },
        "id": "H6zaOUHqJrig",
        "outputId": "f3bd29b4-86e2-4956-94cf-b8e1ab9a6587"
      },
      "source": [
        "new_df['price'][:3]"
      ],
      "execution_count": 107,
      "outputs": [
        {
          "output_type": "execute_result",
          "data": {
            "text/plain": [
              "0    35.039837\n",
              "1    15.000000\n",
              "2    14.000000\n",
              "Name: price, dtype: float64"
            ]
          },
          "metadata": {},
          "execution_count": 107
        }
      ]
    },
    {
      "cell_type": "code",
      "metadata": {
        "colab": {
          "base_uri": "https://localhost:8080/"
        },
        "id": "YvisaNO2J1iN",
        "outputId": "6b89dbc3-0d7a-4501-8f52-f0664779a496"
      },
      "source": [
        "df['points'][:2]"
      ],
      "execution_count": 108,
      "outputs": [
        {
          "output_type": "execute_result",
          "data": {
            "text/plain": [
              "0    87.0\n",
              "1    87.0\n",
              "Name: points, dtype: float64"
            ]
          },
          "metadata": {},
          "execution_count": 108
        }
      ]
    },
    {
      "cell_type": "markdown",
      "metadata": {
        "id": "gN02pYJyzGu2"
      },
      "source": [
        "##6.Split the data into input/features X and output/target Y"
      ]
    },
    {
      "cell_type": "code",
      "metadata": {
        "colab": {
          "base_uri": "https://localhost:8080/"
        },
        "id": "t-pQuEroLzD5",
        "outputId": "5df92d44-9351-4b35-c594-fd529bdd66a4"
      },
      "source": [
        "x_features=new_df.sample(frac=0.8,random_state=25) #80% of the dataset\n",
        "y_targets=new_df.drop(x_features.index) # the remaining of dataset\n",
        "\n",
        "print(f'no. of x features is: {x_features.shape[0]}')#the number of rows\n",
        "print(f'no. of y targets is: {y_targets.shape[0]}')"
      ],
      "execution_count": 109,
      "outputs": [
        {
          "output_type": "stream",
          "name": "stdout",
          "text": [
            "no. of x features is: 4201\n",
            "no. of y targets is: 1050\n"
          ]
        }
      ]
    },
    {
      "cell_type": "code",
      "metadata": {
        "colab": {
          "base_uri": "https://localhost:8080/"
        },
        "id": "auQ6kVtDQf0E",
        "outputId": "52087733-a4c1-4df9-e0e6-c7fbb6b697c5"
      },
      "source": [
        "print(x_features[:1]) #just displaying first rows for testing\n",
        "print(y_targets[:1])"
      ],
      "execution_count": 110,
      "outputs": [
        {
          "output_type": "stream",
          "name": "stdout",
          "text": [
            "      Unnamed: 0  country designation  points  price  region_1  variety  winery\n",
            "1270        1270       13         NaN    85.0   34.0       461      157    1641\n",
            "    Unnamed: 0  country     designation  ...  region_1  variety  winery\n",
            "10          10       13  Mountain Cuvée  ...       461      157    2158\n",
            "\n",
            "[1 rows x 8 columns]\n"
          ]
        }
      ]
    },
    {
      "cell_type": "markdown",
      "metadata": {
        "id": "9ltNcd_I4duK"
      },
      "source": [
        "##7.Print the describe and info of the dataset by the discriptive tools"
      ]
    },
    {
      "cell_type": "code",
      "metadata": {
        "colab": {
          "base_uri": "https://localhost:8080/"
        },
        "id": "0Exfp3nWQlqt",
        "outputId": "8be185b2-be91-4dc4-ebed-ae00a8480f90"
      },
      "source": [
        "print(f'the description of the mod-dataframe is\\n {new_df.describe()}')\n",
        "print(f'the information of the mod-dataframe is\\n {new_df.info} \\nand the mod is : \\n{new_df.mode()}')\n"
      ],
      "execution_count": 113,
      "outputs": [
        {
          "output_type": "stream",
          "name": "stdout",
          "text": [
            "the description of the mod-dataframe is\n",
            "         Unnamed: 0      country  ...      variety       winery\n",
            "count  5251.000000  5251.000000  ...  5251.000000  5251.000000\n",
            "mean   2625.000000    11.837745  ...   123.225290  1755.139212\n",
            "std    1515.977462     4.311088  ...    74.477185  1018.696795\n",
            "min       0.000000     0.000000  ...     0.000000     0.000000\n",
            "25%    1312.500000     9.000000  ...    70.000000   866.000000\n",
            "50%    2625.000000    13.000000  ...   123.000000  1746.000000\n",
            "75%    3937.500000    13.000000  ...   185.000000  2637.500000\n",
            "max    5250.000000    28.000000  ...   273.000000  3520.000000\n",
            "\n",
            "[8 rows x 7 columns]\n",
            "the information of the mod-dataframe is\n",
            " <bound method DataFrame.info of       Unnamed: 0  country  ... variety  winery\n",
            "0              0       12  ...     209     684\n",
            "1              1        1  ...      24    2793\n",
            "2              2       13  ...     106    1829\n",
            "3              3       13  ...     115    3338\n",
            "4              4       13  ...      70     907\n",
            "...          ...      ...  ...     ...     ...\n",
            "5246        5246        9  ...     149    2734\n",
            "5247        5247        9  ...       3     988\n",
            "5248        5248       12  ...     185    3379\n",
            "5249        5249       12  ...      10    2810\n",
            "5250        5250        4  ...       0       0\n",
            "\n",
            "[5251 rows x 8 columns]> \n",
            "and the mod is : \n",
            "      Unnamed: 0  country designation  ...  region_1  variety  winery\n",
            "0              0     13.0     Reserve  ...       0.0     70.0  1700.0\n",
            "1              1      NaN         NaN  ...       NaN      NaN     NaN\n",
            "2              2      NaN         NaN  ...       NaN      NaN     NaN\n",
            "3              3      NaN         NaN  ...       NaN      NaN     NaN\n",
            "4              4      NaN         NaN  ...       NaN      NaN     NaN\n",
            "...          ...      ...         ...  ...       ...      ...     ...\n",
            "5246        5246      NaN         NaN  ...       NaN      NaN     NaN\n",
            "5247        5247      NaN         NaN  ...       NaN      NaN     NaN\n",
            "5248        5248      NaN         NaN  ...       NaN      NaN     NaN\n",
            "5249        5249      NaN         NaN  ...       NaN      NaN     NaN\n",
            "5250        5250      NaN         NaN  ...       NaN      NaN     NaN\n",
            "\n",
            "[5251 rows x 8 columns]\n"
          ]
        }
      ]
    },
    {
      "cell_type": "code",
      "metadata": {
        "colab": {
          "base_uri": "https://localhost:8080/"
        },
        "id": "5lYkDpUr3fqI",
        "outputId": "d9ab4eab-c3dd-44b8-8ad1-e23e8bc1d8eb"
      },
      "source": [
        "print(f'the description of the X-feature is\\n {x_features.describe()}')\n",
        "print(f'the description of the Y-targets is\\n {y_targets.describe()}')\n",
        "print(f'the information of the x-feature is\\n {x_features.info} \\nand the mod is : \\n{x_features.mode()}')\n",
        "print(f'the information of the Y-targets is\\n {y_targets.info} \\nand the mod is : \\n{y_targets.mode()}')\n"
      ],
      "execution_count": 114,
      "outputs": [
        {
          "output_type": "stream",
          "name": "stdout",
          "text": [
            "the description of the X-feature is\n",
            "         Unnamed: 0      country  ...      variety       winery\n",
            "count  4201.000000  4201.000000  ...  4201.000000  4201.000000\n",
            "mean   2617.865984    11.842657  ...   123.323494  1745.784099\n",
            "std    1515.594630     4.298920  ...    74.722619  1017.318456\n",
            "min       0.000000     0.000000  ...     0.000000     0.000000\n",
            "25%    1310.000000     9.000000  ...    70.000000   858.000000\n",
            "50%    2606.000000    13.000000  ...   117.000000  1719.000000\n",
            "75%    3922.000000    13.000000  ...   185.000000  2632.000000\n",
            "max    5250.000000    28.000000  ...   273.000000  3520.000000\n",
            "\n",
            "[8 rows x 7 columns]\n",
            "the description of the Y-targets is\n",
            "         Unnamed: 0      country  ...      variety       winery\n",
            "count  1050.000000  1050.000000  ...  1050.000000  1050.000000\n",
            "mean   2653.542857    11.818095  ...   122.832381  1792.568571\n",
            "std    1517.895246     4.361441  ...    73.520958  1023.824020\n",
            "min      10.000000     0.000000  ...     1.000000     1.000000\n",
            "25%    1326.250000     9.000000  ...    70.000000   899.250000\n",
            "50%    2674.500000    13.000000  ...   125.000000  1838.000000\n",
            "75%    4003.750000    13.000000  ...   185.000000  2672.750000\n",
            "max    5246.000000    26.000000  ...   270.000000  3519.000000\n",
            "\n",
            "[8 rows x 7 columns]\n",
            "the information of the x-feature is\n",
            " <bound method DataFrame.info of       Unnamed: 0  country               designation  ...  region_1  variety  winery\n",
            "1270        1270       13                       NaN  ...       461      157    1641\n",
            "3188        3188       13        Proprietor's Cuvée  ...       130       93    1126\n",
            "3366        3366       13             Joie de Vivre  ...       535        3    3243\n",
            "1426        1426        9        Steinert Grand Cru  ...       204      106     854\n",
            "1888        1888       13               The Hellion  ...       130      185     622\n",
            "...          ...      ...                       ...  ...       ...      ...     ...\n",
            "4377        4377        9                  Alliance  ...       428        3    2710\n",
            "3610        3610       20                   Secreto  ...         0       48     836\n",
            "1857        1857       13                       NaN  ...        91        3     994\n",
            "2348        2348       13            The Expedition  ...        98      224    1844\n",
            "4615        4615       13  Falling Man Vineyard Dry  ...       187      115     404\n",
            "\n",
            "[4201 rows x 8 columns]> \n",
            "and the mod is : \n",
            "      Unnamed: 0  country designation  ...  region_1  variety  winery\n",
            "0              0     13.0     Reserve  ...       0.0     70.0  1700.0\n",
            "1              1      NaN         NaN  ...       NaN      NaN     NaN\n",
            "2              2      NaN         NaN  ...       NaN      NaN     NaN\n",
            "3              3      NaN         NaN  ...       NaN      NaN     NaN\n",
            "4              4      NaN         NaN  ...       NaN      NaN     NaN\n",
            "...          ...      ...         ...  ...       ...      ...     ...\n",
            "4196        5245      NaN         NaN  ...       NaN      NaN     NaN\n",
            "4197        5247      NaN         NaN  ...       NaN      NaN     NaN\n",
            "4198        5248      NaN         NaN  ...       NaN      NaN     NaN\n",
            "4199        5249      NaN         NaN  ...       NaN      NaN     NaN\n",
            "4200        5250      NaN         NaN  ...       NaN      NaN     NaN\n",
            "\n",
            "[4201 rows x 8 columns]\n",
            "the information of the Y-targets is\n",
            " <bound method DataFrame.info of       Unnamed: 0  country               designation  ...  region_1  variety  winery\n",
            "10            10       13            Mountain Cuvée  ...       461      157    2158\n",
            "11            11        9                       NaN  ...       204       50    1553\n",
            "14            14       13                       NaN  ...       398        3    3151\n",
            "20            20       13             Vin de Maison  ...       501      185    3015\n",
            "32            32       12  Calanìca Grillo-Viognier  ...       557      209    1732\n",
            "...          ...      ...                       ...  ...       ...      ...     ...\n",
            "5232        5232       13                Small Town  ...       132       70    2433\n",
            "5238        5238       13                    Estate  ...       511      185    3428\n",
            "5239        5239        4              Nectar Dulce  ...       100      123    2732\n",
            "5242        5242       12                   Riserva  ...       534       10      42\n",
            "5246        5246        9             Les Blanchais  ...       512      149    2734\n",
            "\n",
            "[1050 rows x 8 columns]> \n",
            "and the mod is : \n",
            "      Unnamed: 0  country designation  ...  region_1  variety  winery\n",
            "0             10     13.0      Estate  ...       0.0     70.0   254.0\n",
            "1             11      NaN         NaN  ...       NaN      NaN   687.0\n",
            "2             14      NaN         NaN  ...       NaN      NaN   885.0\n",
            "3             20      NaN         NaN  ...       NaN      NaN   990.0\n",
            "4             32      NaN         NaN  ...       NaN      NaN  1585.0\n",
            "...          ...      ...         ...  ...       ...      ...     ...\n",
            "1045        5232      NaN         NaN  ...       NaN      NaN     NaN\n",
            "1046        5238      NaN         NaN  ...       NaN      NaN     NaN\n",
            "1047        5239      NaN         NaN  ...       NaN      NaN     NaN\n",
            "1048        5242      NaN         NaN  ...       NaN      NaN     NaN\n",
            "1049        5246      NaN         NaN  ...       NaN      NaN     NaN\n",
            "\n",
            "[1050 rows x 8 columns]\n"
          ]
        }
      ]
    },
    {
      "cell_type": "markdown",
      "metadata": {
        "id": "dwmA_yCa5SGc"
      },
      "source": [
        "##8.Plot histogram with plot size of 10"
      ]
    },
    {
      "cell_type": "code",
      "metadata": {
        "colab": {
          "base_uri": "https://localhost:8080/",
          "height": 791
        },
        "id": "BwKGQt2PS5fo",
        "outputId": "bb786f80-ae86-458a-9ff5-a096ef25a5a1"
      },
      "source": [
        "new_df.hist(figsize=(10,10))"
      ],
      "execution_count": 115,
      "outputs": [
        {
          "output_type": "execute_result",
          "data": {
            "text/plain": [
              "array([[<matplotlib.axes._subplots.AxesSubplot object at 0x7fea8610b6d0>,\n",
              "        <matplotlib.axes._subplots.AxesSubplot object at 0x7fea85f74910>,\n",
              "        <matplotlib.axes._subplots.AxesSubplot object at 0x7fea8611ef90>],\n",
              "       [<matplotlib.axes._subplots.AxesSubplot object at 0x7fea85fac650>,\n",
              "        <matplotlib.axes._subplots.AxesSubplot object at 0x7fea85fc4cd0>,\n",
              "        <matplotlib.axes._subplots.AxesSubplot object at 0x7fea861bc390>],\n",
              "       [<matplotlib.axes._subplots.AxesSubplot object at 0x7fea8604ea90>,\n",
              "        <matplotlib.axes._subplots.AxesSubplot object at 0x7fea8607f090>,\n",
              "        <matplotlib.axes._subplots.AxesSubplot object at 0x7fea8607f0d0>]],\n",
              "      dtype=object)"
            ]
          },
          "metadata": {},
          "execution_count": 115
        },
        {
          "output_type": "display_data",
          "data": {
            "image/png": "[encoded data removed]",
            "text/plain": [
              "<Figure size 720x720 with 9 Axes>"
            ]
          },
          "metadata": {
            "needs_background": "light"
          }
        }
      ]
    },
    {
      "cell_type": "markdown",
      "metadata": {
        "id": "8TCIg_j65rxy"
      },
      "source": [
        "##9.Save the modified dataframe to csv file"
      ]
    },
    {
      "cell_type": "code",
      "metadata": {
        "id": "Jruuhz43Tkvz"
      },
      "source": [
        "new_df.to_csv('modified_dataframe.csv')"
      ],
      "execution_count": null,
      "outputs": []
    }
  ]
}