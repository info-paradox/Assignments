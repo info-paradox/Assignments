{
  "nbformat": 4,
  "nbformat_minor": 0,
  "metadata": {
    "colab": {
      "name": "Assignment week3.ipynb",
      "provenance": [],
      "collapsed_sections": [],
      "toc_visible": true,
      "authorship_tag": "ABX9TyMU2vk+qyRyEiEliXJiEz+Q",
      "include_colab_link": true
    },
    "kernelspec": {
      "name": "python3",
      "display_name": "Python 3"
    },
    "language_info": {
      "name": "python"
    }
  },
  "cells": [
    {
      "cell_type": "markdown",
      "metadata": {
        "id": "view-in-github",
        "colab_type": "text"
      },
      "source": [
        "<a href=\"https://colab.research.google.com/github/info-paradox/Assignments/blob/main/Assignment_week3.ipynb\" target=\"_parent\"><img src=\"https://colab.research.google.com/assets/colab-badge.svg\" alt=\"Open In Colab\"/></a>"
      ]
    },
    {
      "cell_type": "code",
      "metadata": {
        "id": "XgC3u8-ivtut"
      },
      "source": [
        "import pandas as pd\n",
        "import matplotlib.pyplot as plt\n",
        "from sklearn import preprocessing,model_selection,svm,neighbors,tree,linear_model,metrics,datasets\n",
        "import numpy \n"
      ],
      "execution_count": null,
      "outputs": []
    },
    {
      "cell_type": "code",
      "metadata": {
        "colab": {
          "base_uri": "https://localhost:8080/"
        },
        "id": "KqkGBtsLwctr",
        "outputId": "5b8fcf99-d44f-434a-be47-2795a4d0dddb"
      },
      "source": [
        "!unzip '/content/housing.csv.zip'"
      ],
      "execution_count": null,
      "outputs": [
        {
          "output_type": "stream",
          "name": "stdout",
          "text": [
            "Archive:  /content/housing.csv.zip\n",
            "  inflating: housing.csv             \n"
          ]
        }
      ]
    },
    {
      "cell_type": "markdown",
      "metadata": {
        "id": "gi-D221kytD6"
      },
      "source": [
        "#Assignment 3"
      ]
    },
    {
      "cell_type": "markdown",
      "metadata": {
        "id": "_DfBiNZ6y0CD"
      },
      "source": [
        "##1.read dataset"
      ]
    },
    {
      "cell_type": "code",
      "metadata": {
        "id": "M4yoxE31xX4F"
      },
      "source": [
        "data=pd.read_csv('/content/housing.csv')"
      ],
      "execution_count": null,
      "outputs": []
    },
    {
      "cell_type": "markdown",
      "metadata": {
        "id": "YTCrG0cLy4t1"
      },
      "source": [
        "##2.drop column occean_proximity"
      ]
    },
    {
      "cell_type": "code",
      "metadata": {
        "id": "iCOC-dl7xrSW"
      },
      "source": [
        "data.drop('ocean_proximity',inplace=True,axis=1)"
      ],
      "execution_count": null,
      "outputs": []
    },
    {
      "cell_type": "markdown",
      "metadata": {
        "id": "aJtOhCl5HNQZ"
      },
      "source": [
        "##3 and 4 .do the necessary preprocessing steps and setting up numpy to 42"
      ]
    },
    {
      "cell_type": "code",
      "metadata": {
        "colab": {
          "base_uri": "https://localhost:8080/"
        },
        "id": "_IkFXc3FyDwX",
        "outputId": "29f1d32b-573d-4de3-8608-ba1675e2ce41"
      },
      "source": [
        "numpy.random.seed(42)\n",
        "data.info()"
      ],
      "execution_count": null,
      "outputs": [
        {
          "output_type": "stream",
          "name": "stdout",
          "text": [
            "<class 'pandas.core.frame.DataFrame'>\n",
            "RangeIndex: 20640 entries, 0 to 20639\n",
            "Data columns (total 9 columns):\n",
            " #   Column              Non-Null Count  Dtype  \n",
            "---  ------              --------------  -----  \n",
            " 0   longitude           20640 non-null  float64\n",
            " 1   latitude            20640 non-null  float64\n",
            " 2   housing_median_age  20640 non-null  float64\n",
            " 3   total_rooms         20640 non-null  float64\n",
            " 4   total_bedrooms      20433 non-null  float64\n",
            " 5   population          20640 non-null  float64\n",
            " 6   households          20640 non-null  float64\n",
            " 7   median_income       20640 non-null  float64\n",
            " 8   median_house_value  20640 non-null  float64\n",
            "dtypes: float64(9)\n",
            "memory usage: 1.4 MB\n"
          ]
        }
      ]
    },
    {
      "cell_type": "code",
      "metadata": {
        "colab": {
          "base_uri": "https://localhost:8080/"
        },
        "id": "Y6VUeuOGzJ6V",
        "outputId": "8838b12c-cf44-4f07-d1c0-232a6b77124e"
      },
      "source": [
        "tot_bed_mean=data['total_bedrooms'].mean()\n",
        "tot_bed_mean"
      ],
      "execution_count": null,
      "outputs": [
        {
          "output_type": "execute_result",
          "data": {
            "text/plain": [
              "537.8705525375618"
            ]
          },
          "metadata": {},
          "execution_count": 6
        }
      ]
    },
    {
      "cell_type": "code",
      "metadata": {
        "id": "Yutd8sIv2RgK"
      },
      "source": [
        "data['total_bedrooms'].replace(numpy.nan,tot_bed_mean,inplace=True)"
      ],
      "execution_count": null,
      "outputs": []
    },
    {
      "cell_type": "code",
      "metadata": {
        "colab": {
          "base_uri": "https://localhost:8080/"
        },
        "id": "oTURnRGQ3E6n",
        "outputId": "47578900-c0c5-4822-f374-3af466f2a68d"
      },
      "source": [
        "data.info()"
      ],
      "execution_count": null,
      "outputs": [
        {
          "output_type": "stream",
          "name": "stdout",
          "text": [
            "<class 'pandas.core.frame.DataFrame'>\n",
            "RangeIndex: 20640 entries, 0 to 20639\n",
            "Data columns (total 9 columns):\n",
            " #   Column              Non-Null Count  Dtype  \n",
            "---  ------              --------------  -----  \n",
            " 0   longitude           20640 non-null  float64\n",
            " 1   latitude            20640 non-null  float64\n",
            " 2   housing_median_age  20640 non-null  float64\n",
            " 3   total_rooms         20640 non-null  float64\n",
            " 4   total_bedrooms      20640 non-null  float64\n",
            " 5   population          20640 non-null  float64\n",
            " 6   households          20640 non-null  float64\n",
            " 7   median_income       20640 non-null  float64\n",
            " 8   median_house_value  20640 non-null  float64\n",
            "dtypes: float64(9)\n",
            "memory usage: 1.4 MB\n"
          ]
        }
      ]
    },
    {
      "cell_type": "code",
      "metadata": {
        "id": "_AAKl-7z3rW3"
      },
      "source": [
        "x=data.iloc[:,:8]\n",
        "y=data['median_house_value']"
      ],
      "execution_count": null,
      "outputs": []
    },
    {
      "cell_type": "code",
      "metadata": {
        "colab": {
          "base_uri": "https://localhost:8080/"
        },
        "id": "9mHWlmS_4AyS",
        "outputId": "737b6ecd-7a79-4073-abb9-00669bbb8bb0"
      },
      "source": [
        "print(f'x.shape is {x.shape}')\n",
        "print(f'y.shape is {y.shape}')"
      ],
      "execution_count": null,
      "outputs": [
        {
          "output_type": "stream",
          "name": "stdout",
          "text": [
            "x.shape is (20640, 8)\n",
            "y.shape is (20640,)\n"
          ]
        }
      ]
    },
    {
      "cell_type": "code",
      "metadata": {
        "id": "ckFRNifw4oku"
      },
      "source": [
        "x_normilizer=preprocessing.StandardScaler()\n",
        "x_norm=x_normilizer.fit_transform(x)\n",
        "\n",
        "y_normilizer=preprocessing.StandardScaler()\n",
        "y_arr=numpy.array(y)\n",
        "y_norm=y_normilizer.fit_transform(y_arr.reshape(-1,1))"
      ],
      "execution_count": null,
      "outputs": []
    },
    {
      "cell_type": "markdown",
      "metadata": {
        "id": "71GtQYLAIPth"
      },
      "source": [
        "##5.split the dataset"
      ]
    },
    {
      "cell_type": "code",
      "metadata": {
        "id": "pqPcEYgi5JKx"
      },
      "source": [
        "x_train,x_test,y_train,y_test=model_selection.train_test_split(x_norm,y_norm,test_size=0.1,random_state=42)"
      ],
      "execution_count": null,
      "outputs": []
    },
    {
      "cell_type": "markdown",
      "metadata": {
        "id": "_RJcoPVpIjAx"
      },
      "source": [
        "##6. define 3 models... with training"
      ]
    },
    {
      "cell_type": "code",
      "metadata": {
        "colab": {
          "base_uri": "https://localhost:8080/"
        },
        "id": "9VlyMuBY52bc",
        "outputId": "ebaf43a8-bf15-4bff-d5b5-085ac8ab8bcf"
      },
      "source": [
        "#model 1 linear model\n",
        "l_reg=linear_model.LinearRegression()\n",
        "lin_model=l_reg.fit(x_train,y_train)\n",
        "lin_pred=lin_model.predict(x_test)\n",
        "\n",
        "#print the acc,mse and r2 scores\n",
        "print(f'liner reg model acc is {lin_model.score(x_test,y_test)}')\n",
        "print(f'mean_squared_error is {metrics.mean_squared_error(y_test,lin_pred)}')\n",
        "print(f'r2_score is {metrics.r2_score(y_test,lin_pred)}')"
      ],
      "execution_count": null,
      "outputs": [
        {
          "output_type": "stream",
          "name": "stdout",
          "text": [
            "liner reg model acc is 0.5934252812971033\n",
            "mean_squared_error is 0.4072034298834471\n",
            "r2_score is 0.5934252812971033\n"
          ]
        }
      ]
    },
    {
      "cell_type": "code",
      "metadata": {
        "colab": {
          "base_uri": "https://localhost:8080/"
        },
        "id": "Y9oxdIbuU4g1",
        "outputId": "7c4c7e31-6db0-44e9-bfc5-1af0a103dbdf"
      },
      "source": [
        "#model 2 dicision trees\n",
        "tree_reg=tree.DecisionTreeRegressor()\n",
        "tree_model=tree_reg.fit(x_train,y_train)\n",
        "tree_pred=tree_model.predict(x_test)\n",
        "\n",
        "#print the acc,mse and r2 scores\n",
        "print(f'decision tree accuracy is {tree_model.score(x_test,y_test)}')\n",
        "print(f'mean_squared_error is {metrics.mean_squared_error(y_test,tree_pred)}')\n",
        "print(f'r2_score is {metrics.r2_score(y_test,tree_pred)}')"
      ],
      "execution_count": null,
      "outputs": [
        {
          "output_type": "stream",
          "name": "stdout",
          "text": [
            "decision tree accuracy is 0.6426767795988736\n",
            "mean_squared_error is 0.35787577099859874\n",
            "r2_score is 0.6426767795988736\n"
          ]
        }
      ]
    },
    {
      "cell_type": "code",
      "metadata": {
        "id": "t72J2k4OegL1"
      },
      "source": [
        "svm_list=[]#just a value savor for tuning"
      ],
      "execution_count": null,
      "outputs": []
    },
    {
      "cell_type": "markdown",
      "metadata": {
        "id": "4v6UvHWdIyEa"
      },
      "source": [
        "##7. using svm and hyper para tuning"
      ]
    },
    {
      "cell_type": "code",
      "metadata": {
        "colab": {
          "base_uri": "https://localhost:8080/"
        },
        "id": "aNrrA75hZ0R3",
        "outputId": "a3b3c057-b355-459d-9020-f8c34b734f18"
      },
      "source": [
        "#Svm\n",
        "c_tuning=16\n",
        "gamma_tuning=0.221\n",
        "svm_reg=svm.SVR(C=c_tuning,gamma=gamma_tuning)\n",
        "svm_model=svm_reg.fit(x_train,y_train)\n",
        "svm_pred=svm_model.predict(x_test)\n",
        "svm_list.append([metrics.mean_squared_error(y_test,svm_pred),c_tuning,gamma_tuning])#append para with score to list\n",
        "\n",
        "#print the acc,mse and r2 scores\n",
        "print(f'svm accurracy is {svm_model.score(x_test,y_test)}')\n",
        "print(f'mean_squared_error is {metrics.mean_squared_error(y_test,svm_pred)}')\n",
        "print(f'r2_score is {metrics.r2_score(y_test,svm_pred)}')\n",
        "print(svm_list)#only for tuning checking"
      ],
      "execution_count": null,
      "outputs": [
        {
          "output_type": "stream",
          "name": "stderr",
          "text": [
            "/usr/local/lib/python3.7/dist-packages/sklearn/utils/validation.py:760: DataConversionWarning: A column-vector y was passed when a 1d array was expected. Please change the shape of y to (n_samples, ), for example using ravel().\n",
            "  y = column_or_1d(y, warn=True)\n"
          ]
        },
        {
          "output_type": "stream",
          "name": "stdout",
          "text": [
            "svm accurracy is 0.7637820204246558\n",
            "mean_squared_error is 0.2365832577836888\n",
            "r2_score is 0.7637820204246558\n",
            "[[0.2365832577836888, 16, 0.221]]\n"
          ]
        }
      ]
    },
    {
      "cell_type": "markdown",
      "metadata": {
        "id": "G6U00n5oJV8f"
      },
      "source": [
        "## 8. the best model"
      ]
    },
    {
      "cell_type": "code",
      "metadata": {
        "id": "cXd0-6LXaRg_",
        "colab": {
          "base_uri": "https://localhost:8080/"
        },
        "outputId": "1ba645fc-67e4-4978-c78e-4d7f64a63068"
      },
      "source": [
        "print('''the best model in this case is the svm since \n",
        "          it have the lowest mean and the highest r2 score''')"
      ],
      "execution_count": null,
      "outputs": [
        {
          "output_type": "stream",
          "name": "stdout",
          "text": [
            "the best model in this case is the svm since \n",
            "          it have the lowest mean and the highest r2 score\n"
          ]
        }
      ]
    },
    {
      "cell_type": "code",
      "metadata": {
        "id": "A1o79Rg0JSdQ"
      },
      "source": [
        ""
      ],
      "execution_count": null,
      "outputs": []
    }
  ]
}